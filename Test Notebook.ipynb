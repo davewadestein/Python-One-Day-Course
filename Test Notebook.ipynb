{
 "cells": [
  {
   "cell_type": "markdown",
   "id": "8d73e164",
   "metadata": {},
   "source": [
    "# Jupyter notebook to use when testing Visual Studio\n",
    "* Visual Studio should identify this as a Jupyter Notebook either will display it, or it will ask whether you want to install Jupyter/Python extensions (yes, you do)"
   ]
  },
  {
   "cell_type": "code",
   "execution_count": 1,
   "id": "e7bda397",
   "metadata": {},
   "outputs": [
    {
     "name": "stdout",
     "output_type": "stream",
     "text": [
      "Hello, world\n"
     ]
    }
   ],
   "source": [
    "print('Hello, world')"
   ]
  }
 ],
 "metadata": {
  "kernelspec": {
   "display_name": "Python 3 (ipykernel)",
   "language": "python",
   "name": "python3"
  },
  "language_info": {
   "codemirror_mode": {
    "name": "ipython",
    "version": 3
   },
   "file_extension": ".py",
   "mimetype": "text/x-python",
   "name": "python",
   "nbconvert_exporter": "python",
   "pygments_lexer": "ipython3",
   "version": "3.9.12"
  }
 },
 "nbformat": 4,
 "nbformat_minor": 5
}
