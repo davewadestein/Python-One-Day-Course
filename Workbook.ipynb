{
 "cells": [
  {
   "cell_type": "markdown",
   "id": "c209d158-96d6-4fb9-8009-38b2ab87b651",
   "metadata": {},
   "source": [
    "# Important Things About Python\n",
    "* basic types (scalars) vs. container types\n",
    "  * scalars: int, float, boolean, (string)\n",
    "  * containers: string, list, dict\n",
    "* mutable vs. immutable objects\n",
    "  * immutable: string\n",
    "  * mutable: list, dict\n",
    "* everything is an object\n",
    "  * it lives in memory at some address\n",
    "* Guido van Rossum\n",
    "  * raison d'être for Python: string/text/file manipulation\n",
    "* \"batteries included\"\n",
    "* built-in functions do not change objects\n",
    "  * if you want to change an object, you must call a method on that object\n",
    "  * not all methods change the objects they are applied to"
   ]
  },
  {
   "cell_type": "markdown",
   "id": "61209063-5982-4ac6-a899-97564adabc62",
   "metadata": {
    "tags": []
   },
   "source": [
    "# Important things about learning\n",
    "* know when to zoom in / zoom out"
   ]
  },
  {
   "cell_type": "markdown",
   "id": "94edc8de-ec97-49e7-ba47-7b849d678f09",
   "metadata": {
    "tags": []
   },
   "source": [
    "# Pythonic\n",
    "* using the Python idioms and programming in way that is natural to Python programmers\n",
    "  * converting from one type to another is very Pythonic\n",
    "  * using negative indexing to access last few items in a container\n",
    "  * \"chaining\" function calls\n",
    "  * the \"in\" operator\n",
    "  * [:n] means \"the first n items\"\n",
    "  * [-n:] means \"the last n items\"\n",
    "  * prefer \"for thing in container\" to indexing\n",
    " "
   ]
  },
  {
   "cell_type": "markdown",
   "id": "de166529-a973-4160-9c21-9beebdce404d",
   "metadata": {},
   "source": [
    "# Programming Thoughts\n",
    "* DRY = Don't Repeat Yourself\n",
    "* Hal Abelson: \"Programs are written for others to read, and only incidentally for computers to execute.\"\n",
    "* Eagleson's Law: \"Code that was written more than 6 months ago might as well have been written by someone else.\"\n",
    "* DWS says \"Efficiency doesn't matter until it matters, and it rarely matters.\n",
    "* Donald Knuth: \"Premature optimization is the root of all evil (or at least most of it)...\"\n",
    "* you read code 10x as often as you write code"
   ]
  },
  {
   "cell_type": "code",
   "execution_count": 1,
   "id": "822d6d3e-8be1-466c-b528-6f8489376e50",
   "metadata": {},
   "outputs": [],
   "source": [
    "string = 'Python'"
   ]
  },
  {
   "cell_type": "code",
   "execution_count": 2,
   "id": "455837d2-3a18-4474-99b3-e7a4e4e26d07",
   "metadata": {},
   "outputs": [
    {
     "data": {
      "text/plain": [
       "'Python'"
      ]
     },
     "execution_count": 2,
     "metadata": {},
     "output_type": "execute_result"
    }
   ],
   "source": [
    "string"
   ]
  },
  {
   "cell_type": "code",
   "execution_count": 3,
   "id": "688eec26-e64e-4fc8-aa3f-22b8a015f99e",
   "metadata": {},
   "outputs": [
    {
     "data": {
      "text/plain": [
       "'Python'"
      ]
     },
     "execution_count": 3,
     "metadata": {},
     "output_type": "execute_result"
    }
   ],
   "source": [
    "string"
   ]
  },
  {
   "cell_type": "code",
   "execution_count": 4,
   "id": "8bbdbcb8-3688-43fd-84f6-d832c5714578",
   "metadata": {},
   "outputs": [
    {
     "data": {
      "text/plain": [
       "140169614559280"
      ]
     },
     "execution_count": 4,
     "metadata": {},
     "output_type": "execute_result"
    }
   ],
   "source": [
    "id(string)"
   ]
  },
  {
   "cell_type": "code",
   "execution_count": 11,
   "id": "ad2f1a05-ad88-4a2b-8264-d2707764b366",
   "metadata": {},
   "outputs": [
    {
     "name": "stdout",
     "output_type": "stream",
     "text": [
      "10\n",
      "ok\n"
     ]
    }
   ],
   "source": [
    "x = 4\n",
    "y = 6\n",
    "print(x + y) # this is executed by Python\n",
    "print('ok') # this is executed in interactive mode"
   ]
  },
  {
   "cell_type": "code",
   "execution_count": 13,
   "id": "193d8051-6a55-4816-a68e-e9f48b353c2c",
   "metadata": {},
   "outputs": [
    {
     "name": "stdout",
     "output_type": "stream",
     "text": [
      "['False', 'None', 'True', '__peg_parser__', 'and', 'as', 'assert', 'async', 'await', 'break', 'class', 'continue', 'def', 'del', 'elif', 'else', 'except', 'finally', 'for', 'from', 'global', 'if', 'import', 'in', 'is', 'lambda', 'nonlocal', 'not', 'or', 'pass', 'raise', 'return', 'try', 'while', 'with', 'yield']\n"
     ]
    }
   ],
   "source": [
    "import keyword\n",
    "print(keyword.kwlist)"
   ]
  },
  {
   "cell_type": "code",
   "execution_count": 14,
   "id": "61c130d7-6304-4339-9a17-2b942d96e08c",
   "metadata": {},
   "outputs": [
    {
     "data": {
      "text/plain": [
       "'True'"
      ]
     },
     "execution_count": 14,
     "metadata": {},
     "output_type": "execute_result"
    }
   ],
   "source": [
    "str(True)"
   ]
  },
  {
   "cell_type": "code",
   "execution_count": 16,
   "id": "921ccfcd-9f90-405b-8b7c-458b445c2f09",
   "metadata": {},
   "outputs": [
    {
     "data": {
      "text/plain": [
       "1"
      ]
     },
     "execution_count": 16,
     "metadata": {},
     "output_type": "execute_result"
    }
   ],
   "source": [
    "int(True)"
   ]
  },
  {
   "cell_type": "code",
   "execution_count": 17,
   "id": "f5914c40-7362-4329-9981-a1abdf880e77",
   "metadata": {},
   "outputs": [
    {
     "data": {
      "text/plain": [
       "140169613339088"
      ]
     },
     "execution_count": 17,
     "metadata": {},
     "output_type": "execute_result"
    }
   ],
   "source": [
    "id(y)"
   ]
  },
  {
   "cell_type": "code",
   "execution_count": 18,
   "id": "64115e53-bacf-4637-a9b3-bef1ee182099",
   "metadata": {},
   "outputs": [
    {
     "data": {
      "text/plain": [
       "4309390640"
      ]
     },
     "execution_count": 18,
     "metadata": {},
     "output_type": "execute_result"
    }
   ],
   "source": [
    "id(True)"
   ]
  },
  {
   "cell_type": "code",
   "execution_count": 21,
   "id": "795564ed-a614-4017-afb9-22d4db29ef45",
   "metadata": {},
   "outputs": [
    {
     "name": "stdout",
     "output_type": "stream",
     "text": [
      "1 2 3...4 5 6\n"
     ]
    }
   ],
   "source": [
    "print(1, 2, 3, end='...')\n",
    "print(4, 5, 6)"
   ]
  },
  {
   "cell_type": "code",
   "execution_count": 22,
   "id": "76922bda-ea30-4c50-bf38-31f171d12130",
   "metadata": {},
   "outputs": [],
   "source": [
    "name = 'Dave'"
   ]
  },
  {
   "cell_type": "code",
   "execution_count": 23,
   "id": "22c9403b-629b-4e94-9cf2-1eb28a75f0fe",
   "metadata": {},
   "outputs": [
    {
     "name": "stdout",
     "output_type": "stream",
     "text": [
      "Hi, my name is Dave\n"
     ]
    }
   ],
   "source": [
    "print('Hi, my name is', name)"
   ]
  },
  {
   "cell_type": "code",
   "execution_count": 24,
   "id": "f129db90-576d-447e-98fa-b95231b1420d",
   "metadata": {},
   "outputs": [
    {
     "data": {
      "text/plain": [
       "'Dave'"
      ]
     },
     "execution_count": 24,
     "metadata": {},
     "output_type": "execute_result"
    }
   ],
   "source": [
    "name"
   ]
  },
  {
   "cell_type": "code",
   "execution_count": 25,
   "id": "ba1f2ef5-c801-44fc-8457-f0fea1f0c101",
   "metadata": {},
   "outputs": [],
   "source": [
    "x, y = 1, -2"
   ]
  },
  {
   "cell_type": "code",
   "execution_count": 1,
   "id": "715eec64-27ab-4378-8332-f181a2620e75",
   "metadata": {},
   "outputs": [],
   "source": [
    "import random"
   ]
  },
  {
   "cell_type": "code",
   "execution_count": 2,
   "id": "02dba620-49d9-446a-b749-203b00568a59",
   "metadata": {},
   "outputs": [
    {
     "data": {
      "text/plain": [
       "140192700113680"
      ]
     },
     "execution_count": 2,
     "metadata": {},
     "output_type": "execute_result"
    }
   ],
   "source": [
    "id(random)"
   ]
  },
  {
   "cell_type": "code",
   "execution_count": 3,
   "id": "af0d1143-ba83-481e-be2f-436a149b0310",
   "metadata": {},
   "outputs": [
    {
     "data": {
      "text/plain": [
       "140192967532848"
      ]
     },
     "execution_count": 3,
     "metadata": {},
     "output_type": "execute_result"
    }
   ],
   "source": [
    "id(len)"
   ]
  },
  {
   "cell_type": "code",
   "execution_count": 4,
   "id": "f6083fff-8643-4611-a685-fcc7ab5b8b90",
   "metadata": {},
   "outputs": [
    {
     "data": {
      "text/plain": [
       "4333744928"
      ]
     },
     "execution_count": 4,
     "metadata": {},
     "output_type": "execute_result"
    }
   ],
   "source": [
    "id(str)"
   ]
  },
  {
   "cell_type": "code",
   "execution_count": 5,
   "id": "1357a0d7-2aff-4fe2-8b19-039189cc3505",
   "metadata": {},
   "outputs": [
    {
     "data": {
      "text/plain": [
       "module"
      ]
     },
     "execution_count": 5,
     "metadata": {},
     "output_type": "execute_result"
    }
   ],
   "source": [
    "type(random)"
   ]
  },
  {
   "cell_type": "code",
   "execution_count": 6,
   "id": "bb701837-d7bb-46bb-9ddc-e45d0d406984",
   "metadata": {},
   "outputs": [
    {
     "data": {
      "text/plain": [
       "['BPF',\n",
       " 'LOG4',\n",
       " 'NV_MAGICCONST',\n",
       " 'RECIP_BPF',\n",
       " 'Random',\n",
       " 'SG_MAGICCONST',\n",
       " 'SystemRandom',\n",
       " 'TWOPI',\n",
       " '_Sequence',\n",
       " '_Set',\n",
       " '__all__',\n",
       " '__builtins__',\n",
       " '__cached__',\n",
       " '__doc__',\n",
       " '__file__',\n",
       " '__loader__',\n",
       " '__name__',\n",
       " '__package__',\n",
       " '__spec__',\n",
       " '_accumulate',\n",
       " '_acos',\n",
       " '_bisect',\n",
       " '_ceil',\n",
       " '_cos',\n",
       " '_e',\n",
       " '_exp',\n",
       " '_floor',\n",
       " '_inst',\n",
       " '_log',\n",
       " '_os',\n",
       " '_pi',\n",
       " '_random',\n",
       " '_repeat',\n",
       " '_sha512',\n",
       " '_sin',\n",
       " '_sqrt',\n",
       " '_test',\n",
       " '_test_generator',\n",
       " '_urandom',\n",
       " '_warn',\n",
       " 'betavariate',\n",
       " 'choice',\n",
       " 'choices',\n",
       " 'expovariate',\n",
       " 'gammavariate',\n",
       " 'gauss',\n",
       " 'getrandbits',\n",
       " 'getstate',\n",
       " 'lognormvariate',\n",
       " 'normalvariate',\n",
       " 'paretovariate',\n",
       " 'randbytes',\n",
       " 'randint',\n",
       " 'random',\n",
       " 'randrange',\n",
       " 'sample',\n",
       " 'seed',\n",
       " 'setstate',\n",
       " 'shuffle',\n",
       " 'triangular',\n",
       " 'uniform',\n",
       " 'vonmisesvariate',\n",
       " 'weibullvariate']"
      ]
     },
     "execution_count": 6,
     "metadata": {},
     "output_type": "execute_result"
    }
   ],
   "source": [
    "dir(random)"
   ]
  },
  {
   "cell_type": "code",
   "execution_count": 7,
   "id": "fdc5e099-e526-45b9-8327-f8d272620e67",
   "metadata": {},
   "outputs": [
    {
     "name": "stdout",
     "output_type": "stream",
     "text": [
      "Help on method randint in module random:\n",
      "\n",
      "randint(a, b) method of random.Random instance\n",
      "    Return random integer in range [a, b], including both end points.\n",
      "\n"
     ]
    }
   ],
   "source": [
    "help(random.randint)"
   ]
  },
  {
   "cell_type": "code",
   "execution_count": 8,
   "id": "e982f019-4940-4f11-a936-c2a274b08117",
   "metadata": {},
   "outputs": [
    {
     "name": "stdout",
     "output_type": "stream",
     "text": [
      "Help on module random:\n",
      "\n",
      "NAME\n",
      "    random - Random variable generators.\n",
      "\n",
      "MODULE REFERENCE\n",
      "    https://docs.python.org/3.9/library/random\n",
      "    \n",
      "    The following documentation is automatically generated from the Python\n",
      "    source files.  It may be incomplete, incorrect or include features that\n",
      "    are considered implementation detail and may vary between Python\n",
      "    implementations.  When in doubt, consult the module reference at the\n",
      "    location listed above.\n",
      "\n",
      "DESCRIPTION\n",
      "        bytes\n",
      "        -----\n",
      "               uniform bytes (values between 0 and 255)\n",
      "    \n",
      "        integers\n",
      "        --------\n",
      "               uniform within range\n",
      "    \n",
      "        sequences\n",
      "        ---------\n",
      "               pick random element\n",
      "               pick random sample\n",
      "               pick weighted random sample\n",
      "               generate random permutation\n",
      "    \n",
      "        distributions on the real line:\n",
      "        ------------------------------\n",
      "               uniform\n",
      "               triangular\n",
      "               normal (Gaussian)\n",
      "               lognormal\n",
      "               negative exponential\n",
      "               gamma\n",
      "               beta\n",
      "               pareto\n",
      "               Weibull\n",
      "    \n",
      "        distributions on the circle (angles 0 to 2pi)\n",
      "        ---------------------------------------------\n",
      "               circular uniform\n",
      "               von Mises\n",
      "    \n",
      "    General notes on the underlying Mersenne Twister core generator:\n",
      "    \n",
      "    * The period is 2**19937-1.\n",
      "    * It is one of the most extensively tested generators in existence.\n",
      "    * The random() method is implemented in C, executes in a single Python step,\n",
      "      and is, therefore, threadsafe.\n",
      "\n",
      "CLASSES\n",
      "    _random.Random(builtins.object)\n",
      "        Random\n",
      "            SystemRandom\n",
      "    \n",
      "    class Random(_random.Random)\n",
      "     |  Random(x=None)\n",
      "     |  \n",
      "     |  Random number generator base class used by bound module functions.\n",
      "     |  \n",
      "     |  Used to instantiate instances of Random to get generators that don't\n",
      "     |  share state.\n",
      "     |  \n",
      "     |  Class Random can also be subclassed if you want to use a different basic\n",
      "     |  generator of your own devising: in that case, override the following\n",
      "     |  methods:  random(), seed(), getstate(), and setstate().\n",
      "     |  Optionally, implement a getrandbits() method so that randrange()\n",
      "     |  can cover arbitrarily large ranges.\n",
      "     |  \n",
      "     |  Method resolution order:\n",
      "     |      Random\n",
      "     |      _random.Random\n",
      "     |      builtins.object\n",
      "     |  \n",
      "     |  Methods defined here:\n",
      "     |  \n",
      "     |  __getstate__(self)\n",
      "     |      # Issue 17489: Since __reduce__ was defined to fix #759889 this is no\n",
      "     |      # longer called; we leave it here because it has been here since random was\n",
      "     |      # rewritten back in 2001 and why risk breaking something.\n",
      "     |  \n",
      "     |  __init__(self, x=None)\n",
      "     |      Initialize an instance.\n",
      "     |      \n",
      "     |      Optional argument x controls seeding, as for Random.seed().\n",
      "     |  \n",
      "     |  __reduce__(self)\n",
      "     |      Helper for pickle.\n",
      "     |  \n",
      "     |  __setstate__(self, state)\n",
      "     |  \n",
      "     |  betavariate(self, alpha, beta)\n",
      "     |      Beta distribution.\n",
      "     |      \n",
      "     |      Conditions on the parameters are alpha > 0 and beta > 0.\n",
      "     |      Returned values range between 0 and 1.\n",
      "     |  \n",
      "     |  choice(self, seq)\n",
      "     |      Choose a random element from a non-empty sequence.\n",
      "     |  \n",
      "     |  choices(self, population, weights=None, *, cum_weights=None, k=1)\n",
      "     |      Return a k sized list of population elements chosen with replacement.\n",
      "     |      \n",
      "     |      If the relative weights or cumulative weights are not specified,\n",
      "     |      the selections are made with equal probability.\n",
      "     |  \n",
      "     |  expovariate(self, lambd)\n",
      "     |      Exponential distribution.\n",
      "     |      \n",
      "     |      lambd is 1.0 divided by the desired mean.  It should be\n",
      "     |      nonzero.  (The parameter would be called \"lambda\", but that is\n",
      "     |      a reserved word in Python.)  Returned values range from 0 to\n",
      "     |      positive infinity if lambd is positive, and from negative\n",
      "     |      infinity to 0 if lambd is negative.\n",
      "     |  \n",
      "     |  gammavariate(self, alpha, beta)\n",
      "     |      Gamma distribution.  Not the gamma function!\n",
      "     |      \n",
      "     |      Conditions on the parameters are alpha > 0 and beta > 0.\n",
      "     |      \n",
      "     |      The probability distribution function is:\n",
      "     |      \n",
      "     |                  x ** (alpha - 1) * math.exp(-x / beta)\n",
      "     |        pdf(x) =  --------------------------------------\n",
      "     |                    math.gamma(alpha) * beta ** alpha\n",
      "     |  \n",
      "     |  gauss(self, mu, sigma)\n",
      "     |      Gaussian distribution.\n",
      "     |      \n",
      "     |      mu is the mean, and sigma is the standard deviation.  This is\n",
      "     |      slightly faster than the normalvariate() function.\n",
      "     |      \n",
      "     |      Not thread-safe without a lock around calls.\n",
      "     |  \n",
      "     |  getstate(self)\n",
      "     |      Return internal state; can be passed to setstate() later.\n",
      "     |  \n",
      "     |  lognormvariate(self, mu, sigma)\n",
      "     |      Log normal distribution.\n",
      "     |      \n",
      "     |      If you take the natural logarithm of this distribution, you'll get a\n",
      "     |      normal distribution with mean mu and standard deviation sigma.\n",
      "     |      mu can have any value, and sigma must be greater than zero.\n",
      "     |  \n",
      "     |  normalvariate(self, mu, sigma)\n",
      "     |      Normal distribution.\n",
      "     |      \n",
      "     |      mu is the mean, and sigma is the standard deviation.\n",
      "     |  \n",
      "     |  paretovariate(self, alpha)\n",
      "     |      Pareto distribution.  alpha is the shape parameter.\n",
      "     |  \n",
      "     |  randbytes(self, n)\n",
      "     |      Generate n random bytes.\n",
      "     |  \n",
      "     |  randint(self, a, b)\n",
      "     |      Return random integer in range [a, b], including both end points.\n",
      "     |  \n",
      "     |  randrange(self, start, stop=None, step=1)\n",
      "     |      Choose a random item from range(start, stop[, step]).\n",
      "     |      \n",
      "     |      This fixes the problem with randint() which includes the\n",
      "     |      endpoint; in Python this is usually not what you want.\n",
      "     |  \n",
      "     |  sample(self, population, k, *, counts=None)\n",
      "     |      Chooses k unique random elements from a population sequence or set.\n",
      "     |      \n",
      "     |      Returns a new list containing elements from the population while\n",
      "     |      leaving the original population unchanged.  The resulting list is\n",
      "     |      in selection order so that all sub-slices will also be valid random\n",
      "     |      samples.  This allows raffle winners (the sample) to be partitioned\n",
      "     |      into grand prize and second place winners (the subslices).\n",
      "     |      \n",
      "     |      Members of the population need not be hashable or unique.  If the\n",
      "     |      population contains repeats, then each occurrence is a possible\n",
      "     |      selection in the sample.\n",
      "     |      \n",
      "     |      Repeated elements can be specified one at a time or with the optional\n",
      "     |      counts parameter.  For example:\n",
      "     |      \n",
      "     |          sample(['red', 'blue'], counts=[4, 2], k=5)\n",
      "     |      \n",
      "     |      is equivalent to:\n",
      "     |      \n",
      "     |          sample(['red', 'red', 'red', 'red', 'blue', 'blue'], k=5)\n",
      "     |      \n",
      "     |      To choose a sample from a range of integers, use range() for the\n",
      "     |      population argument.  This is especially fast and space efficient\n",
      "     |      for sampling from a large population:\n",
      "     |      \n",
      "     |          sample(range(10000000), 60)\n",
      "     |  \n",
      "     |  seed(self, a=None, version=2)\n",
      "     |      Initialize internal state from a seed.\n",
      "     |      \n",
      "     |      The only supported seed types are None, int, float,\n",
      "     |      str, bytes, and bytearray.\n",
      "     |      \n",
      "     |      None or no argument seeds from current time or from an operating\n",
      "     |      system specific randomness source if available.\n",
      "     |      \n",
      "     |      If *a* is an int, all bits are used.\n",
      "     |      \n",
      "     |      For version 2 (the default), all of the bits are used if *a* is a str,\n",
      "     |      bytes, or bytearray.  For version 1 (provided for reproducing random\n",
      "     |      sequences from older versions of Python), the algorithm for str and\n",
      "     |      bytes generates a narrower range of seeds.\n",
      "     |  \n",
      "     |  setstate(self, state)\n",
      "     |      Restore internal state from object returned by getstate().\n",
      "     |  \n",
      "     |  shuffle(self, x, random=None)\n",
      "     |      Shuffle list x in place, and return None.\n",
      "     |      \n",
      "     |      Optional argument random is a 0-argument function returning a\n",
      "     |      random float in [0.0, 1.0); if it is the default None, the\n",
      "     |      standard random.random will be used.\n",
      "     |  \n",
      "     |  triangular(self, low=0.0, high=1.0, mode=None)\n",
      "     |      Triangular distribution.\n",
      "     |      \n",
      "     |      Continuous distribution bounded by given lower and upper limits,\n",
      "     |      and having a given mode value in-between.\n",
      "     |      \n",
      "     |      http://en.wikipedia.org/wiki/Triangular_distribution\n",
      "     |  \n",
      "     |  uniform(self, a, b)\n",
      "     |      Get a random number in the range [a, b) or [a, b] depending on rounding.\n",
      "     |  \n",
      "     |  vonmisesvariate(self, mu, kappa)\n",
      "     |      Circular data distribution.\n",
      "     |      \n",
      "     |      mu is the mean angle, expressed in radians between 0 and 2*pi, and\n",
      "     |      kappa is the concentration parameter, which must be greater than or\n",
      "     |      equal to zero.  If kappa is equal to zero, this distribution reduces\n",
      "     |      to a uniform random angle over the range 0 to 2*pi.\n",
      "     |  \n",
      "     |  weibullvariate(self, alpha, beta)\n",
      "     |      Weibull distribution.\n",
      "     |      \n",
      "     |      alpha is the scale parameter and beta is the shape parameter.\n",
      "     |  \n",
      "     |  ----------------------------------------------------------------------\n",
      "     |  Class methods defined here:\n",
      "     |  \n",
      "     |  __init_subclass__(**kwargs) from builtins.type\n",
      "     |      Control how subclasses generate random integers.\n",
      "     |      \n",
      "     |      The algorithm a subclass can use depends on the random() and/or\n",
      "     |      getrandbits() implementation available to it and determines\n",
      "     |      whether it can generate random integers from arbitrarily large\n",
      "     |      ranges.\n",
      "     |  \n",
      "     |  ----------------------------------------------------------------------\n",
      "     |  Data descriptors defined here:\n",
      "     |  \n",
      "     |  __dict__\n",
      "     |      dictionary for instance variables (if defined)\n",
      "     |  \n",
      "     |  __weakref__\n",
      "     |      list of weak references to the object (if defined)\n",
      "     |  \n",
      "     |  ----------------------------------------------------------------------\n",
      "     |  Data and other attributes defined here:\n",
      "     |  \n",
      "     |  VERSION = 3\n",
      "     |  \n",
      "     |  ----------------------------------------------------------------------\n",
      "     |  Methods inherited from _random.Random:\n",
      "     |  \n",
      "     |  getrandbits(self, k, /)\n",
      "     |      getrandbits(k) -> x.  Generates an int with k random bits.\n",
      "     |  \n",
      "     |  random(self, /)\n",
      "     |      random() -> x in the interval [0, 1).\n",
      "     |  \n",
      "     |  ----------------------------------------------------------------------\n",
      "     |  Static methods inherited from _random.Random:\n",
      "     |  \n",
      "     |  __new__(*args, **kwargs) from builtins.type\n",
      "     |      Create and return a new object.  See help(type) for accurate signature.\n",
      "    \n",
      "    class SystemRandom(Random)\n",
      "     |  SystemRandom(x=None)\n",
      "     |  \n",
      "     |  Alternate random number generator using sources provided\n",
      "     |  by the operating system (such as /dev/urandom on Unix or\n",
      "     |  CryptGenRandom on Windows).\n",
      "     |  \n",
      "     |   Not available on all systems (see os.urandom() for details).\n",
      "     |  \n",
      "     |  Method resolution order:\n",
      "     |      SystemRandom\n",
      "     |      Random\n",
      "     |      _random.Random\n",
      "     |      builtins.object\n",
      "     |  \n",
      "     |  Methods defined here:\n",
      "     |  \n",
      "     |  getrandbits(self, k)\n",
      "     |      getrandbits(k) -> x.  Generates an int with k random bits.\n",
      "     |  \n",
      "     |  getstate = _notimplemented(self, *args, **kwds)\n",
      "     |  \n",
      "     |  randbytes(self, n)\n",
      "     |      Generate n random bytes.\n",
      "     |  \n",
      "     |  random(self)\n",
      "     |      Get the next random number in the range [0.0, 1.0).\n",
      "     |  \n",
      "     |  seed(self, *args, **kwds)\n",
      "     |      Stub method.  Not used for a system random number generator.\n",
      "     |  \n",
      "     |  setstate = _notimplemented(self, *args, **kwds)\n",
      "     |  \n",
      "     |  ----------------------------------------------------------------------\n",
      "     |  Methods inherited from Random:\n",
      "     |  \n",
      "     |  __getstate__(self)\n",
      "     |      # Issue 17489: Since __reduce__ was defined to fix #759889 this is no\n",
      "     |      # longer called; we leave it here because it has been here since random was\n",
      "     |      # rewritten back in 2001 and why risk breaking something.\n",
      "     |  \n",
      "     |  __init__(self, x=None)\n",
      "     |      Initialize an instance.\n",
      "     |      \n",
      "     |      Optional argument x controls seeding, as for Random.seed().\n",
      "     |  \n",
      "     |  __reduce__(self)\n",
      "     |      Helper for pickle.\n",
      "     |  \n",
      "     |  __setstate__(self, state)\n",
      "     |  \n",
      "     |  betavariate(self, alpha, beta)\n",
      "     |      Beta distribution.\n",
      "     |      \n",
      "     |      Conditions on the parameters are alpha > 0 and beta > 0.\n",
      "     |      Returned values range between 0 and 1.\n",
      "     |  \n",
      "     |  choice(self, seq)\n",
      "     |      Choose a random element from a non-empty sequence.\n",
      "     |  \n",
      "     |  choices(self, population, weights=None, *, cum_weights=None, k=1)\n",
      "     |      Return a k sized list of population elements chosen with replacement.\n",
      "     |      \n",
      "     |      If the relative weights or cumulative weights are not specified,\n",
      "     |      the selections are made with equal probability.\n",
      "     |  \n",
      "     |  expovariate(self, lambd)\n",
      "     |      Exponential distribution.\n",
      "     |      \n",
      "     |      lambd is 1.0 divided by the desired mean.  It should be\n",
      "     |      nonzero.  (The parameter would be called \"lambda\", but that is\n",
      "     |      a reserved word in Python.)  Returned values range from 0 to\n",
      "     |      positive infinity if lambd is positive, and from negative\n",
      "     |      infinity to 0 if lambd is negative.\n",
      "     |  \n",
      "     |  gammavariate(self, alpha, beta)\n",
      "     |      Gamma distribution.  Not the gamma function!\n",
      "     |      \n",
      "     |      Conditions on the parameters are alpha > 0 and beta > 0.\n",
      "     |      \n",
      "     |      The probability distribution function is:\n",
      "     |      \n",
      "     |                  x ** (alpha - 1) * math.exp(-x / beta)\n",
      "     |        pdf(x) =  --------------------------------------\n",
      "     |                    math.gamma(alpha) * beta ** alpha\n",
      "     |  \n",
      "     |  gauss(self, mu, sigma)\n",
      "     |      Gaussian distribution.\n",
      "     |      \n",
      "     |      mu is the mean, and sigma is the standard deviation.  This is\n",
      "     |      slightly faster than the normalvariate() function.\n",
      "     |      \n",
      "     |      Not thread-safe without a lock around calls.\n",
      "     |  \n",
      "     |  lognormvariate(self, mu, sigma)\n",
      "     |      Log normal distribution.\n",
      "     |      \n",
      "     |      If you take the natural logarithm of this distribution, you'll get a\n",
      "     |      normal distribution with mean mu and standard deviation sigma.\n",
      "     |      mu can have any value, and sigma must be greater than zero.\n",
      "     |  \n",
      "     |  normalvariate(self, mu, sigma)\n",
      "     |      Normal distribution.\n",
      "     |      \n",
      "     |      mu is the mean, and sigma is the standard deviation.\n",
      "     |  \n",
      "     |  paretovariate(self, alpha)\n",
      "     |      Pareto distribution.  alpha is the shape parameter.\n",
      "     |  \n",
      "     |  randint(self, a, b)\n",
      "     |      Return random integer in range [a, b], including both end points.\n",
      "     |  \n",
      "     |  randrange(self, start, stop=None, step=1)\n",
      "     |      Choose a random item from range(start, stop[, step]).\n",
      "     |      \n",
      "     |      This fixes the problem with randint() which includes the\n",
      "     |      endpoint; in Python this is usually not what you want.\n",
      "     |  \n",
      "     |  sample(self, population, k, *, counts=None)\n",
      "     |      Chooses k unique random elements from a population sequence or set.\n",
      "     |      \n",
      "     |      Returns a new list containing elements from the population while\n",
      "     |      leaving the original population unchanged.  The resulting list is\n",
      "     |      in selection order so that all sub-slices will also be valid random\n",
      "     |      samples.  This allows raffle winners (the sample) to be partitioned\n",
      "     |      into grand prize and second place winners (the subslices).\n",
      "     |      \n",
      "     |      Members of the population need not be hashable or unique.  If the\n",
      "     |      population contains repeats, then each occurrence is a possible\n",
      "     |      selection in the sample.\n",
      "     |      \n",
      "     |      Repeated elements can be specified one at a time or with the optional\n",
      "     |      counts parameter.  For example:\n",
      "     |      \n",
      "     |          sample(['red', 'blue'], counts=[4, 2], k=5)\n",
      "     |      \n",
      "     |      is equivalent to:\n",
      "     |      \n",
      "     |          sample(['red', 'red', 'red', 'red', 'blue', 'blue'], k=5)\n",
      "     |      \n",
      "     |      To choose a sample from a range of integers, use range() for the\n",
      "     |      population argument.  This is especially fast and space efficient\n",
      "     |      for sampling from a large population:\n",
      "     |      \n",
      "     |          sample(range(10000000), 60)\n",
      "     |  \n",
      "     |  shuffle(self, x, random=None)\n",
      "     |      Shuffle list x in place, and return None.\n",
      "     |      \n",
      "     |      Optional argument random is a 0-argument function returning a\n",
      "     |      random float in [0.0, 1.0); if it is the default None, the\n",
      "     |      standard random.random will be used.\n",
      "     |  \n",
      "     |  triangular(self, low=0.0, high=1.0, mode=None)\n",
      "     |      Triangular distribution.\n",
      "     |      \n",
      "     |      Continuous distribution bounded by given lower and upper limits,\n",
      "     |      and having a given mode value in-between.\n",
      "     |      \n",
      "     |      http://en.wikipedia.org/wiki/Triangular_distribution\n",
      "     |  \n",
      "     |  uniform(self, a, b)\n",
      "     |      Get a random number in the range [a, b) or [a, b] depending on rounding.\n",
      "     |  \n",
      "     |  vonmisesvariate(self, mu, kappa)\n",
      "     |      Circular data distribution.\n",
      "     |      \n",
      "     |      mu is the mean angle, expressed in radians between 0 and 2*pi, and\n",
      "     |      kappa is the concentration parameter, which must be greater than or\n",
      "     |      equal to zero.  If kappa is equal to zero, this distribution reduces\n",
      "     |      to a uniform random angle over the range 0 to 2*pi.\n",
      "     |  \n",
      "     |  weibullvariate(self, alpha, beta)\n",
      "     |      Weibull distribution.\n",
      "     |      \n",
      "     |      alpha is the scale parameter and beta is the shape parameter.\n",
      "     |  \n",
      "     |  ----------------------------------------------------------------------\n",
      "     |  Class methods inherited from Random:\n",
      "     |  \n",
      "     |  __init_subclass__(**kwargs) from builtins.type\n",
      "     |      Control how subclasses generate random integers.\n",
      "     |      \n",
      "     |      The algorithm a subclass can use depends on the random() and/or\n",
      "     |      getrandbits() implementation available to it and determines\n",
      "     |      whether it can generate random integers from arbitrarily large\n",
      "     |      ranges.\n",
      "     |  \n",
      "     |  ----------------------------------------------------------------------\n",
      "     |  Data descriptors inherited from Random:\n",
      "     |  \n",
      "     |  __dict__\n",
      "     |      dictionary for instance variables (if defined)\n",
      "     |  \n",
      "     |  __weakref__\n",
      "     |      list of weak references to the object (if defined)\n",
      "     |  \n",
      "     |  ----------------------------------------------------------------------\n",
      "     |  Data and other attributes inherited from Random:\n",
      "     |  \n",
      "     |  VERSION = 3\n",
      "     |  \n",
      "     |  ----------------------------------------------------------------------\n",
      "     |  Static methods inherited from _random.Random:\n",
      "     |  \n",
      "     |  __new__(*args, **kwargs) from builtins.type\n",
      "     |      Create and return a new object.  See help(type) for accurate signature.\n",
      "\n",
      "FUNCTIONS\n",
      "    betavariate(alpha, beta) method of Random instance\n",
      "        Beta distribution.\n",
      "        \n",
      "        Conditions on the parameters are alpha > 0 and beta > 0.\n",
      "        Returned values range between 0 and 1.\n",
      "    \n",
      "    choice(seq) method of Random instance\n",
      "        Choose a random element from a non-empty sequence.\n",
      "    \n",
      "    choices(population, weights=None, *, cum_weights=None, k=1) method of Random instance\n",
      "        Return a k sized list of population elements chosen with replacement.\n",
      "        \n",
      "        If the relative weights or cumulative weights are not specified,\n",
      "        the selections are made with equal probability.\n",
      "    \n",
      "    expovariate(lambd) method of Random instance\n",
      "        Exponential distribution.\n",
      "        \n",
      "        lambd is 1.0 divided by the desired mean.  It should be\n",
      "        nonzero.  (The parameter would be called \"lambda\", but that is\n",
      "        a reserved word in Python.)  Returned values range from 0 to\n",
      "        positive infinity if lambd is positive, and from negative\n",
      "        infinity to 0 if lambd is negative.\n",
      "    \n",
      "    gammavariate(alpha, beta) method of Random instance\n",
      "        Gamma distribution.  Not the gamma function!\n",
      "        \n",
      "        Conditions on the parameters are alpha > 0 and beta > 0.\n",
      "        \n",
      "        The probability distribution function is:\n",
      "        \n",
      "                    x ** (alpha - 1) * math.exp(-x / beta)\n",
      "          pdf(x) =  --------------------------------------\n",
      "                      math.gamma(alpha) * beta ** alpha\n",
      "    \n",
      "    gauss(mu, sigma) method of Random instance\n",
      "        Gaussian distribution.\n",
      "        \n",
      "        mu is the mean, and sigma is the standard deviation.  This is\n",
      "        slightly faster than the normalvariate() function.\n",
      "        \n",
      "        Not thread-safe without a lock around calls.\n",
      "    \n",
      "    getrandbits(k, /) method of Random instance\n",
      "        getrandbits(k) -> x.  Generates an int with k random bits.\n",
      "    \n",
      "    getstate() method of Random instance\n",
      "        Return internal state; can be passed to setstate() later.\n",
      "    \n",
      "    lognormvariate(mu, sigma) method of Random instance\n",
      "        Log normal distribution.\n",
      "        \n",
      "        If you take the natural logarithm of this distribution, you'll get a\n",
      "        normal distribution with mean mu and standard deviation sigma.\n",
      "        mu can have any value, and sigma must be greater than zero.\n",
      "    \n",
      "    normalvariate(mu, sigma) method of Random instance\n",
      "        Normal distribution.\n",
      "        \n",
      "        mu is the mean, and sigma is the standard deviation.\n",
      "    \n",
      "    paretovariate(alpha) method of Random instance\n",
      "        Pareto distribution.  alpha is the shape parameter.\n",
      "    \n",
      "    randbytes(n) method of Random instance\n",
      "        Generate n random bytes.\n",
      "    \n",
      "    randint(a, b) method of Random instance\n",
      "        Return random integer in range [a, b], including both end points.\n",
      "    \n",
      "    random() method of Random instance\n",
      "        random() -> x in the interval [0, 1).\n",
      "    \n",
      "    randrange(start, stop=None, step=1) method of Random instance\n",
      "        Choose a random item from range(start, stop[, step]).\n",
      "        \n",
      "        This fixes the problem with randint() which includes the\n",
      "        endpoint; in Python this is usually not what you want.\n",
      "    \n",
      "    sample(population, k, *, counts=None) method of Random instance\n",
      "        Chooses k unique random elements from a population sequence or set.\n",
      "        \n",
      "        Returns a new list containing elements from the population while\n",
      "        leaving the original population unchanged.  The resulting list is\n",
      "        in selection order so that all sub-slices will also be valid random\n",
      "        samples.  This allows raffle winners (the sample) to be partitioned\n",
      "        into grand prize and second place winners (the subslices).\n",
      "        \n",
      "        Members of the population need not be hashable or unique.  If the\n",
      "        population contains repeats, then each occurrence is a possible\n",
      "        selection in the sample.\n",
      "        \n",
      "        Repeated elements can be specified one at a time or with the optional\n",
      "        counts parameter.  For example:\n",
      "        \n",
      "            sample(['red', 'blue'], counts=[4, 2], k=5)\n",
      "        \n",
      "        is equivalent to:\n",
      "        \n",
      "            sample(['red', 'red', 'red', 'red', 'blue', 'blue'], k=5)\n",
      "        \n",
      "        To choose a sample from a range of integers, use range() for the\n",
      "        population argument.  This is especially fast and space efficient\n",
      "        for sampling from a large population:\n",
      "        \n",
      "            sample(range(10000000), 60)\n",
      "    \n",
      "    seed(a=None, version=2) method of Random instance\n",
      "        Initialize internal state from a seed.\n",
      "        \n",
      "        The only supported seed types are None, int, float,\n",
      "        str, bytes, and bytearray.\n",
      "        \n",
      "        None or no argument seeds from current time or from an operating\n",
      "        system specific randomness source if available.\n",
      "        \n",
      "        If *a* is an int, all bits are used.\n",
      "        \n",
      "        For version 2 (the default), all of the bits are used if *a* is a str,\n",
      "        bytes, or bytearray.  For version 1 (provided for reproducing random\n",
      "        sequences from older versions of Python), the algorithm for str and\n",
      "        bytes generates a narrower range of seeds.\n",
      "    \n",
      "    setstate(state) method of Random instance\n",
      "        Restore internal state from object returned by getstate().\n",
      "    \n",
      "    shuffle(x, random=None) method of Random instance\n",
      "        Shuffle list x in place, and return None.\n",
      "        \n",
      "        Optional argument random is a 0-argument function returning a\n",
      "        random float in [0.0, 1.0); if it is the default None, the\n",
      "        standard random.random will be used.\n",
      "    \n",
      "    triangular(low=0.0, high=1.0, mode=None) method of Random instance\n",
      "        Triangular distribution.\n",
      "        \n",
      "        Continuous distribution bounded by given lower and upper limits,\n",
      "        and having a given mode value in-between.\n",
      "        \n",
      "        http://en.wikipedia.org/wiki/Triangular_distribution\n",
      "    \n",
      "    uniform(a, b) method of Random instance\n",
      "        Get a random number in the range [a, b) or [a, b] depending on rounding.\n",
      "    \n",
      "    vonmisesvariate(mu, kappa) method of Random instance\n",
      "        Circular data distribution.\n",
      "        \n",
      "        mu is the mean angle, expressed in radians between 0 and 2*pi, and\n",
      "        kappa is the concentration parameter, which must be greater than or\n",
      "        equal to zero.  If kappa is equal to zero, this distribution reduces\n",
      "        to a uniform random angle over the range 0 to 2*pi.\n",
      "    \n",
      "    weibullvariate(alpha, beta) method of Random instance\n",
      "        Weibull distribution.\n",
      "        \n",
      "        alpha is the scale parameter and beta is the shape parameter.\n",
      "\n",
      "DATA\n",
      "    __all__ = ['Random', 'SystemRandom', 'betavariate', 'choice', 'choices...\n",
      "\n",
      "FILE\n",
      "    /Users/dave-wadestein/opt/anaconda3/lib/python3.9/random.py\n",
      "\n",
      "\n"
     ]
    }
   ],
   "source": [
    "help(random)"
   ]
  },
  {
   "cell_type": "code",
   "execution_count": 10,
   "id": "1db796e8-f541-43b0-96c0-fb62d1b63d0d",
   "metadata": {},
   "outputs": [
    {
     "data": {
      "text/plain": [
       "\u001b[0;31mType:\u001b[0m        module\n",
       "\u001b[0;31mString form:\u001b[0m <module 'random' from '/Users/dave-wadestein/opt/anaconda3/lib/python3.9/random.py'>\n",
       "\u001b[0;31mFile:\u001b[0m        ~/opt/anaconda3/lib/python3.9/random.py\n",
       "\u001b[0;31mDocstring:\u001b[0m  \n",
       "Random variable generators.\n",
       "\n",
       "    bytes\n",
       "    -----\n",
       "           uniform bytes (values between 0 and 255)\n",
       "\n",
       "    integers\n",
       "    --------\n",
       "           uniform within range\n",
       "\n",
       "    sequences\n",
       "    ---------\n",
       "           pick random element\n",
       "           pick random sample\n",
       "           pick weighted random sample\n",
       "           generate random permutation\n",
       "\n",
       "    distributions on the real line:\n",
       "    ------------------------------\n",
       "           uniform\n",
       "           triangular\n",
       "           normal (Gaussian)\n",
       "           lognormal\n",
       "           negative exponential\n",
       "           gamma\n",
       "           beta\n",
       "           pareto\n",
       "           Weibull\n",
       "\n",
       "    distributions on the circle (angles 0 to 2pi)\n",
       "    ---------------------------------------------\n",
       "           circular uniform\n",
       "           von Mises\n",
       "\n",
       "General notes on the underlying Mersenne Twister core generator:\n",
       "\n",
       "* The period is 2**19937-1.\n",
       "* It is one of the most extensively tested generators in existence.\n",
       "* The random() method is implemented in C, executes in a single Python step,\n",
       "  and is, therefore, threadsafe.\n"
      ]
     },
     "metadata": {},
     "output_type": "display_data"
    }
   ],
   "source": [
    "random?"
   ]
  },
  {
   "cell_type": "code",
   "execution_count": 11,
   "id": "ba32c79f-9e53-4549-9214-d89097d2ec3c",
   "metadata": {},
   "outputs": [],
   "source": [
    "import math"
   ]
  },
  {
   "cell_type": "code",
   "execution_count": 12,
   "id": "7db048fa-90bd-447c-96fe-9a3b25b81052",
   "metadata": {},
   "outputs": [
    {
     "data": {
      "text/plain": [
       "\u001b[0;31mType:\u001b[0m        module\n",
       "\u001b[0;31mString form:\u001b[0m <module 'math' from '/Users/dave-wadestein/opt/anaconda3/lib/python3.9/lib-dynload/math.cpython-39-darwin.so'>\n",
       "\u001b[0;31mFile:\u001b[0m        ~/opt/anaconda3/lib/python3.9/lib-dynload/math.cpython-39-darwin.so\n",
       "\u001b[0;31mDocstring:\u001b[0m  \n",
       "This module provides access to the mathematical functions\n",
       "defined by the C standard.\n"
      ]
     },
     "metadata": {},
     "output_type": "display_data"
    }
   ],
   "source": [
    "math?"
   ]
  },
  {
   "cell_type": "code",
   "execution_count": 13,
   "id": "ead3a39f-aa98-457b-a6b4-0a12db3c2f58",
   "metadata": {},
   "outputs": [
    {
     "name": "stdout",
     "output_type": "stream",
     "text": [
      "Help on module math:\n",
      "\n",
      "NAME\n",
      "    math\n",
      "\n",
      "MODULE REFERENCE\n",
      "    https://docs.python.org/3.9/library/math\n",
      "    \n",
      "    The following documentation is automatically generated from the Python\n",
      "    source files.  It may be incomplete, incorrect or include features that\n",
      "    are considered implementation detail and may vary between Python\n",
      "    implementations.  When in doubt, consult the module reference at the\n",
      "    location listed above.\n",
      "\n",
      "DESCRIPTION\n",
      "    This module provides access to the mathematical functions\n",
      "    defined by the C standard.\n",
      "\n",
      "FUNCTIONS\n",
      "    acos(x, /)\n",
      "        Return the arc cosine (measured in radians) of x.\n",
      "        \n",
      "        The result is between 0 and pi.\n",
      "    \n",
      "    acosh(x, /)\n",
      "        Return the inverse hyperbolic cosine of x.\n",
      "    \n",
      "    asin(x, /)\n",
      "        Return the arc sine (measured in radians) of x.\n",
      "        \n",
      "        The result is between -pi/2 and pi/2.\n",
      "    \n",
      "    asinh(x, /)\n",
      "        Return the inverse hyperbolic sine of x.\n",
      "    \n",
      "    atan(x, /)\n",
      "        Return the arc tangent (measured in radians) of x.\n",
      "        \n",
      "        The result is between -pi/2 and pi/2.\n",
      "    \n",
      "    atan2(y, x, /)\n",
      "        Return the arc tangent (measured in radians) of y/x.\n",
      "        \n",
      "        Unlike atan(y/x), the signs of both x and y are considered.\n",
      "    \n",
      "    atanh(x, /)\n",
      "        Return the inverse hyperbolic tangent of x.\n",
      "    \n",
      "    ceil(x, /)\n",
      "        Return the ceiling of x as an Integral.\n",
      "        \n",
      "        This is the smallest integer >= x.\n",
      "    \n",
      "    comb(n, k, /)\n",
      "        Number of ways to choose k items from n items without repetition and without order.\n",
      "        \n",
      "        Evaluates to n! / (k! * (n - k)!) when k <= n and evaluates\n",
      "        to zero when k > n.\n",
      "        \n",
      "        Also called the binomial coefficient because it is equivalent\n",
      "        to the coefficient of k-th term in polynomial expansion of the\n",
      "        expression (1 + x)**n.\n",
      "        \n",
      "        Raises TypeError if either of the arguments are not integers.\n",
      "        Raises ValueError if either of the arguments are negative.\n",
      "    \n",
      "    copysign(x, y, /)\n",
      "        Return a float with the magnitude (absolute value) of x but the sign of y.\n",
      "        \n",
      "        On platforms that support signed zeros, copysign(1.0, -0.0)\n",
      "        returns -1.0.\n",
      "    \n",
      "    cos(x, /)\n",
      "        Return the cosine of x (measured in radians).\n",
      "    \n",
      "    cosh(x, /)\n",
      "        Return the hyperbolic cosine of x.\n",
      "    \n",
      "    degrees(x, /)\n",
      "        Convert angle x from radians to degrees.\n",
      "    \n",
      "    dist(p, q, /)\n",
      "        Return the Euclidean distance between two points p and q.\n",
      "        \n",
      "        The points should be specified as sequences (or iterables) of\n",
      "        coordinates.  Both inputs must have the same dimension.\n",
      "        \n",
      "        Roughly equivalent to:\n",
      "            sqrt(sum((px - qx) ** 2.0 for px, qx in zip(p, q)))\n",
      "    \n",
      "    erf(x, /)\n",
      "        Error function at x.\n",
      "    \n",
      "    erfc(x, /)\n",
      "        Complementary error function at x.\n",
      "    \n",
      "    exp(x, /)\n",
      "        Return e raised to the power of x.\n",
      "    \n",
      "    expm1(x, /)\n",
      "        Return exp(x)-1.\n",
      "        \n",
      "        This function avoids the loss of precision involved in the direct evaluation of exp(x)-1 for small x.\n",
      "    \n",
      "    fabs(x, /)\n",
      "        Return the absolute value of the float x.\n",
      "    \n",
      "    factorial(x, /)\n",
      "        Find x!.\n",
      "        \n",
      "        Raise a ValueError if x is negative or non-integral.\n",
      "    \n",
      "    floor(x, /)\n",
      "        Return the floor of x as an Integral.\n",
      "        \n",
      "        This is the largest integer <= x.\n",
      "    \n",
      "    fmod(x, y, /)\n",
      "        Return fmod(x, y), according to platform C.\n",
      "        \n",
      "        x % y may differ.\n",
      "    \n",
      "    frexp(x, /)\n",
      "        Return the mantissa and exponent of x, as pair (m, e).\n",
      "        \n",
      "        m is a float and e is an int, such that x = m * 2.**e.\n",
      "        If x is 0, m and e are both 0.  Else 0.5 <= abs(m) < 1.0.\n",
      "    \n",
      "    fsum(seq, /)\n",
      "        Return an accurate floating point sum of values in the iterable seq.\n",
      "        \n",
      "        Assumes IEEE-754 floating point arithmetic.\n",
      "    \n",
      "    gamma(x, /)\n",
      "        Gamma function at x.\n",
      "    \n",
      "    gcd(*integers)\n",
      "        Greatest Common Divisor.\n",
      "    \n",
      "    hypot(...)\n",
      "        hypot(*coordinates) -> value\n",
      "        \n",
      "        Multidimensional Euclidean distance from the origin to a point.\n",
      "        \n",
      "        Roughly equivalent to:\n",
      "            sqrt(sum(x**2 for x in coordinates))\n",
      "        \n",
      "        For a two dimensional point (x, y), gives the hypotenuse\n",
      "        using the Pythagorean theorem:  sqrt(x*x + y*y).\n",
      "        \n",
      "        For example, the hypotenuse of a 3/4/5 right triangle is:\n",
      "        \n",
      "            >>> hypot(3.0, 4.0)\n",
      "            5.0\n",
      "    \n",
      "    isclose(a, b, *, rel_tol=1e-09, abs_tol=0.0)\n",
      "        Determine whether two floating point numbers are close in value.\n",
      "        \n",
      "          rel_tol\n",
      "            maximum difference for being considered \"close\", relative to the\n",
      "            magnitude of the input values\n",
      "          abs_tol\n",
      "            maximum difference for being considered \"close\", regardless of the\n",
      "            magnitude of the input values\n",
      "        \n",
      "        Return True if a is close in value to b, and False otherwise.\n",
      "        \n",
      "        For the values to be considered close, the difference between them\n",
      "        must be smaller than at least one of the tolerances.\n",
      "        \n",
      "        -inf, inf and NaN behave similarly to the IEEE 754 Standard.  That\n",
      "        is, NaN is not close to anything, even itself.  inf and -inf are\n",
      "        only close to themselves.\n",
      "    \n",
      "    isfinite(x, /)\n",
      "        Return True if x is neither an infinity nor a NaN, and False otherwise.\n",
      "    \n",
      "    isinf(x, /)\n",
      "        Return True if x is a positive or negative infinity, and False otherwise.\n",
      "    \n",
      "    isnan(x, /)\n",
      "        Return True if x is a NaN (not a number), and False otherwise.\n",
      "    \n",
      "    isqrt(n, /)\n",
      "        Return the integer part of the square root of the input.\n",
      "    \n",
      "    lcm(*integers)\n",
      "        Least Common Multiple.\n",
      "    \n",
      "    ldexp(x, i, /)\n",
      "        Return x * (2**i).\n",
      "        \n",
      "        This is essentially the inverse of frexp().\n",
      "    \n",
      "    lgamma(x, /)\n",
      "        Natural logarithm of absolute value of Gamma function at x.\n",
      "    \n",
      "    log(...)\n",
      "        log(x, [base=math.e])\n",
      "        Return the logarithm of x to the given base.\n",
      "        \n",
      "        If the base not specified, returns the natural logarithm (base e) of x.\n",
      "    \n",
      "    log10(x, /)\n",
      "        Return the base 10 logarithm of x.\n",
      "    \n",
      "    log1p(x, /)\n",
      "        Return the natural logarithm of 1+x (base e).\n",
      "        \n",
      "        The result is computed in a way which is accurate for x near zero.\n",
      "    \n",
      "    log2(x, /)\n",
      "        Return the base 2 logarithm of x.\n",
      "    \n",
      "    modf(x, /)\n",
      "        Return the fractional and integer parts of x.\n",
      "        \n",
      "        Both results carry the sign of x and are floats.\n",
      "    \n",
      "    nextafter(x, y, /)\n",
      "        Return the next floating-point value after x towards y.\n",
      "    \n",
      "    perm(n, k=None, /)\n",
      "        Number of ways to choose k items from n items without repetition and with order.\n",
      "        \n",
      "        Evaluates to n! / (n - k)! when k <= n and evaluates\n",
      "        to zero when k > n.\n",
      "        \n",
      "        If k is not specified or is None, then k defaults to n\n",
      "        and the function returns n!.\n",
      "        \n",
      "        Raises TypeError if either of the arguments are not integers.\n",
      "        Raises ValueError if either of the arguments are negative.\n",
      "    \n",
      "    pow(x, y, /)\n",
      "        Return x**y (x to the power of y).\n",
      "    \n",
      "    prod(iterable, /, *, start=1)\n",
      "        Calculate the product of all the elements in the input iterable.\n",
      "        \n",
      "        The default start value for the product is 1.\n",
      "        \n",
      "        When the iterable is empty, return the start value.  This function is\n",
      "        intended specifically for use with numeric values and may reject\n",
      "        non-numeric types.\n",
      "    \n",
      "    radians(x, /)\n",
      "        Convert angle x from degrees to radians.\n",
      "    \n",
      "    remainder(x, y, /)\n",
      "        Difference between x and the closest integer multiple of y.\n",
      "        \n",
      "        Return x - n*y where n*y is the closest integer multiple of y.\n",
      "        In the case where x is exactly halfway between two multiples of\n",
      "        y, the nearest even value of n is used. The result is always exact.\n",
      "    \n",
      "    sin(x, /)\n",
      "        Return the sine of x (measured in radians).\n",
      "    \n",
      "    sinh(x, /)\n",
      "        Return the hyperbolic sine of x.\n",
      "    \n",
      "    sqrt(x, /)\n",
      "        Return the square root of x.\n",
      "    \n",
      "    tan(x, /)\n",
      "        Return the tangent of x (measured in radians).\n",
      "    \n",
      "    tanh(x, /)\n",
      "        Return the hyperbolic tangent of x.\n",
      "    \n",
      "    trunc(x, /)\n",
      "        Truncates the Real x to the nearest Integral toward 0.\n",
      "        \n",
      "        Uses the __trunc__ magic method.\n",
      "    \n",
      "    ulp(x, /)\n",
      "        Return the value of the least significant bit of the float x.\n",
      "\n",
      "DATA\n",
      "    e = 2.718281828459045\n",
      "    inf = inf\n",
      "    nan = nan\n",
      "    pi = 3.141592653589793\n",
      "    tau = 6.283185307179586\n",
      "\n",
      "FILE\n",
      "    /Users/dave-wadestein/opt/anaconda3/lib/python3.9/lib-dynload/math.cpython-39-darwin.so\n",
      "\n",
      "\n"
     ]
    }
   ],
   "source": [
    "help(math)"
   ]
  },
  {
   "cell_type": "markdown",
   "id": "3c653046-3866-42a6-b6ee-d72b1913bc87",
   "metadata": {},
   "source": [
    "## Quick Lab: Loops/Strings\n",
    "* have the user enter a string, then loop through the string to generate (or print) a new string in which every character is duplicated, e.g., \"Python\" => \"PPyytthhoonn\""
   ]
  },
  {
   "cell_type": "code",
   "execution_count": 17,
   "id": "5a2a3a0f-534e-49c6-ac61-6d78dcd39fe5",
   "metadata": {},
   "outputs": [
    {
     "name": "stdin",
     "output_type": "stream",
     "text": [
      "Enter something:  Python\n"
     ]
    },
    {
     "name": "stdout",
     "output_type": "stream",
     "text": [
      "PPyytthhoonn"
     ]
    }
   ],
   "source": [
    "string = input('Enter something: ')\n",
    "for letter in string:\n",
    "    print(letter * 2, end='')"
   ]
  },
  {
   "cell_type": "code",
   "execution_count": 18,
   "id": "004e2c0b-aa97-4b64-909e-f75fca2e7499",
   "metadata": {},
   "outputs": [
    {
     "name": "stdout",
     "output_type": "stream",
     "text": [
      "PPyytthhoonn\n"
     ]
    }
   ],
   "source": [
    "# or...\n",
    "string2 = ''\n",
    "for letter in string:\n",
    "    string2 += letter * 2\n",
    "print(string2)"
   ]
  },
  {
   "cell_type": "code",
   "execution_count": 19,
   "id": "d786ee59-43c5-49be-982a-b3ae281f284d",
   "metadata": {},
   "outputs": [
    {
     "name": "stdout",
     "output_type": "stream",
     "text": [
      "PPyytthhoonn"
     ]
    }
   ],
   "source": [
    "# or ...\n",
    "for letter in string:\n",
    "    print(letter + letter, end='')"
   ]
  },
  {
   "cell_type": "code",
   "execution_count": 20,
   "id": "79cb7f23-6b7f-4183-b084-b2f8faccb343",
   "metadata": {},
   "outputs": [
    {
     "name": "stdout",
     "output_type": "stream",
     "text": [
      "PPyytthhoonn"
     ]
    }
   ],
   "source": [
    "for letter in string:\n",
    "    print(letter, letter, sep='', end='')"
   ]
  },
  {
   "cell_type": "markdown",
   "id": "d7522369-cf93-4baa-97fd-0e640de2ca2f",
   "metadata": {},
   "source": [
    "## Lab: Loops\n",
    "* Loop through the numbers from 2 to 25 and print out which numbers are prime, and for those numbers which are not prime numbers, you should print them as a product of two factors\n",
    "* Remember that prime = no divisors other than 1 and itself\n",
    "* Don't worry about efficiency, but if you're interested, check out math.sqrt()\n",
    "* example output:\n",
    "<pre>\n",
    "2 is a prime number\n",
    "3 is a prime number\n",
    "4 equals 2 * 2\n",
    "5 is a prime number\n",
    "6 equals 2 * 3\n",
    "7 is a prime number\n",
    "8 equals 2 * 4\n",
    "9 equals 3 * 3\n",
    "10 equals 2 * 5\n",
    "11 is a prime number\n",
    "12 equals 2 * 6\n",
    "13 is a prime number\n",
    "14 equals 2 * 7\n",
    "15 equals 3 * 5\n",
    "16 equals 2 * 8\n",
    "17 is a prime number\n",
    "18 equals 2 * 9\n",
    "19 is a prime number\n",
    "20 equals 2 * 10\n",
    "21 equals 3 * 7\n",
    "22 equals 2 * 11\n",
    "23 is a prime number\n",
    "24 equals 2 * 12\n",
    "25 equals 5 * 5\n",
    "</pre>"
   ]
  },
  {
   "cell_type": "code",
   "execution_count": null,
   "id": "ab8454c9-dd64-4346-8aec-dfd825222194",
   "metadata": {},
   "outputs": [],
   "source": [
    "# logic test first\n",
    "# are we checking the right numbers?\n",
    "for num in range(2, 26): # 2..25\n",
    "    print(num, end=': ')\n",
    "    for divisor in range(2, num): # no need to subtract 1 here\n",
    "        print(divisor, end=' ')\n",
    "    print()"
   ]
  },
  {
   "cell_type": "code",
   "execution_count": null,
   "id": "7198fbd3-b6b2-42c6-bc45-13b60e9d7c52",
   "metadata": {},
   "outputs": [],
   "source": [
    "# looks good, now do the work\n",
    "for num in range(2, 2600):\n",
    "    print(num, end=' ')\n",
    "    for divisor in range(2, num):\n",
    "        if num % divisor == 0: # divides in evenly\n",
    "            print('equals', divisor, '*', num // divisor)\n",
    "            break # no need to check further divisors\n",
    "    else: # good use of else on for loop...\n",
    "        print('is a prime number')"
   ]
  },
  {
   "cell_type": "code",
   "execution_count": 15,
   "id": "73503b30-1a8c-42b7-a412-f5735152a07c",
   "metadata": {},
   "outputs": [
    {
     "name": "stdout",
     "output_type": "stream",
     "text": [
      "2\n",
      "3\n",
      "4\n",
      "5\n",
      "6\n",
      "7\n",
      "8\n",
      "9\n",
      "10\n",
      "11\n",
      "12\n",
      "13\n",
      "14\n",
      "15\n",
      "16\n",
      "17\n",
      "18\n",
      "19\n",
      "20\n",
      "21\n",
      "22\n",
      "23\n",
      "24\n",
      "25\n"
     ]
    }
   ],
   "source": [
    "for num in range(2, 26):\n",
    "    print(num)"
   ]
  },
  {
   "cell_type": "code",
   "execution_count": null,
   "id": "a999a679-b50d-4bf4-a4e9-d056143f5ca8",
   "metadata": {},
   "outputs": [],
   "source": [
    "# The key to programming\n",
    "# 1. break down the problem into a series of steps that you do in your head to solve the problem\n",
    "# for each number from 2 to 25\n",
    "#.   for each possible divisor from 2 up to that number\n",
    "#.        if possible divisor divides in with no remainder, then it's a factor (not prime)\n",
    "#.        stop looking for more factors\n",
    "#.   if no possible divisor divides in evenly, then ... it's PRIME\n",
    "\n",
    "# 2. and then convert each step to Python/Java/etc."
   ]
  },
  {
   "cell_type": "code",
   "execution_count": 16,
   "id": "2788add4-7b73-4db0-9df4-918f774fbb44",
   "metadata": {},
   "outputs": [
    {
     "data": {
      "text/plain": [
       "1"
      ]
     },
     "execution_count": 16,
     "metadata": {},
     "output_type": "execute_result"
    }
   ],
   "source": [
    "13 % 4"
   ]
  },
  {
   "cell_type": "code",
   "execution_count": 21,
   "id": "6e7b7d62-d31e-483b-90dc-bc26be3d23db",
   "metadata": {},
   "outputs": [
    {
     "name": "stdout",
     "output_type": "stream",
     "text": [
      "1\n"
     ]
    }
   ],
   "source": [
    "print(1)"
   ]
  },
  {
   "cell_type": "code",
   "execution_count": 22,
   "id": "6eb69735-4c66-44f8-a36f-fa493c263944",
   "metadata": {},
   "outputs": [
    {
     "name": "stdout",
     "output_type": "stream",
     "text": [
      "string\n"
     ]
    }
   ],
   "source": [
    "print('string')"
   ]
  },
  {
   "cell_type": "code",
   "execution_count": 23,
   "id": "252db710-877d-4ed0-9638-8d53ebf2a04b",
   "metadata": {},
   "outputs": [
    {
     "name": "stdout",
     "output_type": "stream",
     "text": [
      "True\n"
     ]
    }
   ],
   "source": [
    "print(True)"
   ]
  },
  {
   "cell_type": "code",
   "execution_count": 30,
   "id": "2f0a0178-75b7-4f7e-9e82-ea746f2a64a5",
   "metadata": {},
   "outputs": [
    {
     "name": "stdout",
     "output_type": "stream",
     "text": [
      "1\n",
      "2\n",
      "3\n"
     ]
    }
   ],
   "source": [
    "\n",
    "print(1)\n",
    "print(2)\n",
    "print(3)"
   ]
  },
  {
   "cell_type": "code",
   "execution_count": 28,
   "id": "db613e31-68c3-4fb5-ba8c-c9e02f8cbde4",
   "metadata": {},
   "outputs": [
    {
     "data": {
      "text/plain": [
       "'\\nprint(1)\\nprint(2)\\n'"
      ]
     },
     "execution_count": 28,
     "metadata": {},
     "output_type": "execute_result"
    }
   ],
   "source": [
    "s"
   ]
  },
  {
   "cell_type": "code",
   "execution_count": 31,
   "id": "b3153211-3515-4652-8a6f-4528ccdc0520",
   "metadata": {},
   "outputs": [
    {
     "data": {
      "text/plain": [
       "'STRING'"
      ]
     },
     "execution_count": 31,
     "metadata": {},
     "output_type": "execute_result"
    }
   ],
   "source": [
    "'string'.upper()"
   ]
  },
  {
   "cell_type": "code",
   "execution_count": 32,
   "id": "c332d102-10db-4e58-a0fd-7d2742814b42",
   "metadata": {},
   "outputs": [],
   "source": [
    "s = 'python'"
   ]
  },
  {
   "cell_type": "code",
   "execution_count": 33,
   "id": "e70ddbd7-f067-482a-bc38-a4635e864604",
   "metadata": {},
   "outputs": [
    {
     "ename": "TypeError",
     "evalue": "'str' object does not support item assignment",
     "output_type": "error",
     "traceback": [
      "\u001b[0;31m---------------------------------------------------------------------------\u001b[0m",
      "\u001b[0;31mTypeError\u001b[0m                                 Traceback (most recent call last)",
      "Input \u001b[0;32mIn [33]\u001b[0m, in \u001b[0;36m<cell line: 1>\u001b[0;34m()\u001b[0m\n\u001b[0;32m----> 1\u001b[0m s[\u001b[38;5;241m0\u001b[39m] \u001b[38;5;241m=\u001b[39m \u001b[38;5;124m'\u001b[39m\u001b[38;5;124mP\u001b[39m\u001b[38;5;124m'\u001b[39m\n",
      "\u001b[0;31mTypeError\u001b[0m: 'str' object does not support item assignment"
     ]
    }
   ],
   "source": [
    "s[0] = 'P'"
   ]
  },
  {
   "cell_type": "code",
   "execution_count": 34,
   "id": "fc5ea109-77f5-4140-820c-f85cc71b7a15",
   "metadata": {},
   "outputs": [],
   "source": [
    "s = 'Python'"
   ]
  },
  {
   "cell_type": "markdown",
   "id": "7b08e583-3f43-4774-80b5-ace766902879",
   "metadata": {},
   "source": [
    "## Lab: String Functions\n",
    "* write a Python program which prompts the user for a string and a stride (increment), and alternately makes the string upper case and lower case, stride characters at a time, e.g.,\n",
    "![alt-text](images/uplow.png \"uplow\")\n"
   ]
  },
  {
   "cell_type": "code",
   "execution_count": 58,
   "id": "fb01cf5a-bb25-409b-8718-c2407f6d54a8",
   "metadata": {},
   "outputs": [],
   "source": [
    "string = 'abcdefghijklmnopqrstuvwxyz'\n",
    "stride = 4"
   ]
  },
  {
   "cell_type": "code",
   "execution_count": 37,
   "id": "e7b5274a-bd06-475d-bc3e-26783016c10b",
   "metadata": {},
   "outputs": [],
   "source": [
    "# for letter in string: # hold this thought"
   ]
  },
  {
   "cell_type": "code",
   "execution_count": 39,
   "id": "c3fbdd16-ea72-4cb8-8f6a-466dedb4c04e",
   "metadata": {},
   "outputs": [
    {
     "data": {
      "text/plain": [
       "7"
      ]
     },
     "execution_count": 39,
     "metadata": {},
     "output_type": "execute_result"
    }
   ],
   "source": [
    "len(string) // stride + 1 # Daniel's idea, break the string into chunksof the appropriate size"
   ]
  },
  {
   "cell_type": "code",
   "execution_count": 40,
   "id": "abe216bc-1bf9-4c9b-a976-559eb5e5a89c",
   "metadata": {},
   "outputs": [
    {
     "data": {
      "text/plain": [
       "'abcd'"
      ]
     },
     "execution_count": 40,
     "metadata": {},
     "output_type": "execute_result"
    }
   ],
   "source": [
    "string[0:4]"
   ]
  },
  {
   "cell_type": "code",
   "execution_count": 41,
   "id": "900f8ef5-5a38-4da1-84f3-66f04bec91e3",
   "metadata": {},
   "outputs": [
    {
     "data": {
      "text/plain": [
       "'efgh'"
      ]
     },
     "execution_count": 41,
     "metadata": {},
     "output_type": "execute_result"
    }
   ],
   "source": [
    "string[4:8]"
   ]
  },
  {
   "cell_type": "code",
   "execution_count": 43,
   "id": "db9d9b78-a42b-4bbe-85f4-8bd744f9c1de",
   "metadata": {},
   "outputs": [
    {
     "data": {
      "text/plain": [
       "'ijkl'"
      ]
     },
     "execution_count": 43,
     "metadata": {},
     "output_type": "execute_result"
    }
   ],
   "source": [
    "string[8:12]"
   ]
  },
  {
   "cell_type": "code",
   "execution_count": 44,
   "id": "c497543b-0faf-4010-8763-6a6612cd15ac",
   "metadata": {},
   "outputs": [
    {
     "data": {
      "text/plain": [
       "'uvwx'"
      ]
     },
     "execution_count": 44,
     "metadata": {},
     "output_type": "execute_result"
    }
   ],
   "source": [
    "string[20:24]"
   ]
  },
  {
   "cell_type": "code",
   "execution_count": 50,
   "id": "4ac2204b-7455-45fb-9b31-4cd15f4b37a1",
   "metadata": {},
   "outputs": [
    {
     "data": {
      "text/plain": [
       "'y'"
      ]
     },
     "execution_count": 50,
     "metadata": {},
     "output_type": "execute_result"
    }
   ],
   "source": [
    "string[24:28]"
   ]
  },
  {
   "cell_type": "code",
   "execution_count": 46,
   "id": "d273da66-d842-4d39-bdcf-5ca2ec67d8c6",
   "metadata": {
    "collapsed": true,
    "jupyter": {
     "outputs_hidden": true
    },
    "tags": []
   },
   "outputs": [
    {
     "data": {
      "text/plain": [
       "''"
      ]
     },
     "execution_count": 46,
     "metadata": {},
     "output_type": "execute_result"
    }
   ],
   "source": [
    "string[10:2]"
   ]
  },
  {
   "cell_type": "code",
   "execution_count": 52,
   "id": "6c25edbd-92a5-476d-bc6a-ebbc40c4899a",
   "metadata": {},
   "outputs": [
    {
     "name": "stdout",
     "output_type": "stream",
     "text": [
      "0 : 4\n",
      "4 : 8\n",
      "8 : 12\n",
      "12 : 16\n",
      "16 : 20\n",
      "20 : 24\n",
      "24 : 28\n"
     ]
    }
   ],
   "source": [
    "for index in range(0, len(string), stride):\n",
    "    print(index, ':', index + stride)"
   ]
  },
  {
   "cell_type": "code",
   "execution_count": 61,
   "id": "429ca5f9-54b3-448d-95b3-347ef8ca6d0a",
   "metadata": {},
   "outputs": [
    {
     "name": "stdout",
     "output_type": "stream",
     "text": [
      "ABCDefghIJKLmnopQRSTuvwxYZ"
     ]
    }
   ],
   "source": [
    "times = 0\n",
    "\n",
    "for index in range(0, len(string), stride):\n",
    "    if times % 2 == 0:\n",
    "        print(string[index:index + stride].upper(), end='')\n",
    "    else:\n",
    "        print(string[index:index + stride].lower(), end='')\n",
    "    times += 1 # no ++"
   ]
  },
  {
   "cell_type": "code",
   "execution_count": 59,
   "id": "1b2a7eb6-8420-4924-9bc9-f7748a7157f4",
   "metadata": {},
   "outputs": [
    {
     "data": {
      "text/plain": [
       "'ABCD'"
      ]
     },
     "execution_count": 59,
     "metadata": {},
     "output_type": "execute_result"
    }
   ],
   "source": [
    "'abcd'.upper()"
   ]
  },
  {
   "cell_type": "code",
   "execution_count": 67,
   "id": "94978097-2e9c-455a-8fed-692864c8e29d",
   "metadata": {},
   "outputs": [
    {
     "name": "stdout",
     "output_type": "stream",
     "text": [
      "ABCDefghIJKLmnopQRSTuvwxYZ"
     ]
    }
   ],
   "source": [
    "do_upper = True\n",
    "\n",
    "for index in range(0, len(string), stride):\n",
    "    if do_upper: # should we convert this slice to upper case?\n",
    "        print(string[index:index + stride].upper(), end='')\n",
    "        do_upper = False\n",
    "    else:\n",
    "        print(string[index:index + stride].lower(), end='')\n",
    "        do_upper = True"
   ]
  },
  {
   "cell_type": "code",
   "execution_count": 63,
   "id": "de195ffc-b791-4dc1-b7a6-b751f910acae",
   "metadata": {},
   "outputs": [
    {
     "name": "stdout",
     "output_type": "stream",
     "text": [
      "ABCDefghIJKLmnopQRSTuvwxYZ"
     ]
    }
   ],
   "source": [
    "do_upper = True\n",
    "\n",
    "for index in range(0, len(string), stride):\n",
    "    if do_upper: # \"should we conver this slice to upper case?\n",
    "        print(string[index:index + stride].upper(), end='')\n",
    "    else:\n",
    "        print(string[index:index + stride].lower(), end='')\n",
    "    do_upper = not do_upper"
   ]
  },
  {
   "cell_type": "code",
   "execution_count": 68,
   "id": "0f8a576e-c127-4831-82ee-8c670353e255",
   "metadata": {},
   "outputs": [],
   "source": [
    "words = 'apple fig pear'.split()"
   ]
  },
  {
   "cell_type": "code",
   "execution_count": 69,
   "id": "215588d6-97d2-487c-a3fc-f643eda30327",
   "metadata": {},
   "outputs": [
    {
     "data": {
      "text/plain": [
       "['apple', 'fig', 'pear']"
      ]
     },
     "execution_count": 69,
     "metadata": {},
     "output_type": "execute_result"
    }
   ],
   "source": [
    "words"
   ]
  },
  {
   "cell_type": "code",
   "execution_count": 70,
   "id": "8c2897f4-e216-4726-8229-722f549b57fb",
   "metadata": {},
   "outputs": [
    {
     "ename": "AttributeError",
     "evalue": "'list' object has no attribute 'join'",
     "output_type": "error",
     "traceback": [
      "\u001b[0;31m---------------------------------------------------------------------------\u001b[0m",
      "\u001b[0;31mAttributeError\u001b[0m                            Traceback (most recent call last)",
      "Input \u001b[0;32mIn [70]\u001b[0m, in \u001b[0;36m<cell line: 1>\u001b[0;34m()\u001b[0m\n\u001b[0;32m----> 1\u001b[0m \u001b[43m[\u001b[49m\u001b[38;5;124;43m'\u001b[39;49m\u001b[38;5;124;43mapple\u001b[39;49m\u001b[38;5;124;43m'\u001b[39;49m\u001b[43m,\u001b[49m\u001b[43m \u001b[49m\u001b[38;5;124;43m'\u001b[39;49m\u001b[38;5;124;43mfig\u001b[39;49m\u001b[38;5;124;43m'\u001b[39;49m\u001b[43m,\u001b[49m\u001b[43m \u001b[49m\u001b[38;5;124;43m'\u001b[39;49m\u001b[38;5;124;43mpear\u001b[39;49m\u001b[38;5;124;43m'\u001b[39;49m\u001b[43m]\u001b[49m\u001b[38;5;241;43m.\u001b[39;49m\u001b[43mjoin\u001b[49m(\u001b[38;5;124m'\u001b[39m\u001b[38;5;124m \u001b[39m\u001b[38;5;124m'\u001b[39m)\n",
      "\u001b[0;31mAttributeError\u001b[0m: 'list' object has no attribute 'join'"
     ]
    }
   ],
   "source": [
    "['apple', 'fig', 'pear'].join(' ')"
   ]
  },
  {
   "cell_type": "code",
   "execution_count": 71,
   "id": "245229d6-59b9-4898-a432-59c129162cf9",
   "metadata": {},
   "outputs": [
    {
     "data": {
      "text/plain": [
       "['hello']"
      ]
     },
     "execution_count": 71,
     "metadata": {},
     "output_type": "execute_result"
    }
   ],
   "source": [
    "'hello'.split()"
   ]
  },
  {
   "cell_type": "code",
   "execution_count": 72,
   "id": "6697c1fb-749d-4407-bb19-447b13aeec0a",
   "metadata": {},
   "outputs": [
    {
     "data": {
      "text/plain": [
       "['h', 'e', 'l', 'l', 'o']"
      ]
     },
     "execution_count": 72,
     "metadata": {},
     "output_type": "execute_result"
    }
   ],
   "source": [
    "list('hello')"
   ]
  },
  {
   "cell_type": "code",
   "execution_count": 73,
   "id": "122aada1-0fd1-4c29-bb34-72436ffe49c9",
   "metadata": {},
   "outputs": [
    {
     "data": {
      "text/plain": [
       "[1, 2, 3, 4, 5, 6, 7, 8, 9]"
      ]
     },
     "execution_count": 73,
     "metadata": {},
     "output_type": "execute_result"
    }
   ],
   "source": [
    "list(range(1, 10))"
   ]
  },
  {
   "cell_type": "code",
   "execution_count": 74,
   "id": "4c255e19-d957-47f2-a773-66708bb65901",
   "metadata": {},
   "outputs": [
    {
     "data": {
      "text/plain": [
       "[1, 3, 5, 7, 9]"
      ]
     },
     "execution_count": 74,
     "metadata": {},
     "output_type": "execute_result"
    }
   ],
   "source": [
    "list(range(1, 10, 2))"
   ]
  },
  {
   "cell_type": "code",
   "execution_count": 75,
   "id": "11aa36a5-57f6-45d4-ae2f-2e1d9f782195",
   "metadata": {},
   "outputs": [
    {
     "data": {
      "text/plain": [
       "[0, 1, 2, 3, 4, 5, 6, 7, 8, 9]"
      ]
     },
     "execution_count": 75,
     "metadata": {},
     "output_type": "execute_result"
    }
   ],
   "source": [
    "list(range(10))"
   ]
  },
  {
   "cell_type": "code",
   "execution_count": 76,
   "id": "c9cf5761-0fc5-4782-bf21-f8783434fed0",
   "metadata": {},
   "outputs": [],
   "source": [
    "nums = list(range(10))"
   ]
  },
  {
   "cell_type": "code",
   "execution_count": 77,
   "id": "c7c1dfd4-13dc-4be5-afab-4c9c2320bdc0",
   "metadata": {},
   "outputs": [
    {
     "data": {
      "text/plain": [
       "[0, 1, 2, 3, 4, 5, 6, 7, 8, 9]"
      ]
     },
     "execution_count": 77,
     "metadata": {},
     "output_type": "execute_result"
    }
   ],
   "source": [
    "nums"
   ]
  },
  {
   "cell_type": "code",
   "execution_count": 78,
   "id": "4ad09496-59c4-4eb0-8414-ff7c85f24acb",
   "metadata": {},
   "outputs": [
    {
     "data": {
      "text/plain": [
       "1"
      ]
     },
     "execution_count": 78,
     "metadata": {},
     "output_type": "execute_result"
    }
   ],
   "source": [
    "nums[1]"
   ]
  },
  {
   "cell_type": "code",
   "execution_count": 79,
   "id": "6d98cb74-0531-45ed-96e2-637f24eaa02b",
   "metadata": {},
   "outputs": [
    {
     "data": {
      "text/plain": [
       "[0, 1, 2, 3, 4, 5, 6, 7, 8, 9]"
      ]
     },
     "execution_count": 79,
     "metadata": {},
     "output_type": "execute_result"
    }
   ],
   "source": [
    "nums"
   ]
  },
  {
   "cell_type": "code",
   "execution_count": 80,
   "id": "7064292d-1a22-497b-b1aa-e042bfd1be24",
   "metadata": {},
   "outputs": [
    {
     "data": {
      "text/plain": [
       "1"
      ]
     },
     "execution_count": 80,
     "metadata": {},
     "output_type": "execute_result"
    }
   ],
   "source": [
    "nums.pop(1)"
   ]
  },
  {
   "cell_type": "code",
   "execution_count": 81,
   "id": "b74dc0bc-636f-43d7-b21a-23f789bd6fba",
   "metadata": {},
   "outputs": [
    {
     "data": {
      "text/plain": [
       "[0, 2, 3, 4, 5, 6, 7, 8, 9]"
      ]
     },
     "execution_count": 81,
     "metadata": {},
     "output_type": "execute_result"
    }
   ],
   "source": [
    "nums"
   ]
  },
  {
   "cell_type": "code",
   "execution_count": 83,
   "id": "efae6653-1fb3-42e1-9626-a538f28d5f65",
   "metadata": {},
   "outputs": [
    {
     "name": "stdout",
     "output_type": "stream",
     "text": [
      "0\n",
      "1\n",
      "2\n",
      "3\n",
      "4\n",
      "5\n",
      "6\n",
      "7\n",
      "8\n",
      "9\n"
     ]
    }
   ],
   "source": [
    "for times in range(10): # either this is 1) counting from 0..9, or 2) do something 10 times\n",
    "    print(times)"
   ]
  },
  {
   "cell_type": "code",
   "execution_count": 85,
   "id": "8b3ccef2-90b2-4115-bfa4-f7e18e8d051e",
   "metadata": {},
   "outputs": [
    {
     "name": "stdout",
     "output_type": "stream",
     "text": [
      "hi!\n",
      "hi!\n",
      "hi!\n",
      "hi!\n",
      "hi!\n",
      "hi!\n",
      "hi!\n",
      "hi!\n",
      "hi!\n",
      "hi!\n"
     ]
    }
   ],
   "source": [
    "for _ in range(10): # can only mean \"do this 10 times\"\n",
    "    print('hi!')"
   ]
  },
  {
   "cell_type": "code",
   "execution_count": 86,
   "id": "7dc3ce84-ff47-4098-88e7-c4eb6ffab073",
   "metadata": {},
   "outputs": [],
   "source": [
    "fruits = 'fig apple pear banana'.split() # instead of [ 'fig', .... ]"
   ]
  },
  {
   "cell_type": "code",
   "execution_count": 87,
   "id": "406a26e2-e9c9-43f9-8f8f-345cf59a397b",
   "metadata": {},
   "outputs": [
    {
     "data": {
      "text/plain": [
       "['fig', 'apple', 'pear', 'banana']"
      ]
     },
     "execution_count": 87,
     "metadata": {},
     "output_type": "execute_result"
    }
   ],
   "source": [
    "fruits"
   ]
  },
  {
   "cell_type": "code",
   "execution_count": 89,
   "id": "1a6e2ae6-d57c-48de-bc93-082609897da4",
   "metadata": {},
   "outputs": [],
   "source": [
    "fruits = sorted(fruits) # mistake no. 1"
   ]
  },
  {
   "cell_type": "code",
   "execution_count": 90,
   "id": "53e332f9-a4c9-49e7-81c2-48032e6841a9",
   "metadata": {},
   "outputs": [
    {
     "data": {
      "text/plain": [
       "['apple', 'banana', 'fig', 'pear']"
      ]
     },
     "execution_count": 90,
     "metadata": {},
     "output_type": "execute_result"
    }
   ],
   "source": [
    "fruits # works, but we did extra work (and moved the list in memory) ... we should have fruits.sort()"
   ]
  },
  {
   "cell_type": "code",
   "execution_count": 91,
   "id": "555b4b83-da76-426c-bff0-63522502c8e5",
   "metadata": {},
   "outputs": [],
   "source": [
    "fruits = fruits.sort() # mistake no. 2"
   ]
  },
  {
   "cell_type": "code",
   "execution_count": 92,
   "id": "8b139ef7-2beb-4733-aff2-6c2a6ab8ffce",
   "metadata": {},
   "outputs": [
    {
     "name": "stdout",
     "output_type": "stream",
     "text": [
      "Help on method_descriptor:\n",
      "\n",
      "sort(self, /, *, key=None, reverse=False)\n",
      "    Sort the list in ascending order and return None.\n",
      "    \n",
      "    The sort is in-place (i.e. the list itself is modified) and stable (i.e. the\n",
      "    order of two equal elements is maintained).\n",
      "    \n",
      "    If a key function is given, apply it once to each list item and sort them,\n",
      "    ascending or descending, according to their function values.\n",
      "    \n",
      "    The reverse flag can be set to sort in descending order.\n",
      "\n"
     ]
    }
   ],
   "source": [
    "help(list.sort)"
   ]
  },
  {
   "cell_type": "code",
   "execution_count": 93,
   "id": "e5ee4ce8-f899-4055-84fe-e849a797163d",
   "metadata": {},
   "outputs": [
    {
     "name": "stdout",
     "output_type": "stream",
     "text": [
      "None\n"
     ]
    }
   ],
   "source": [
    "print(fruits)"
   ]
  },
  {
   "cell_type": "markdown",
   "id": "5bca0687-2853-48bf-8c25-1a7d3ef598b5",
   "metadata": {
    "tags": []
   },
   "source": [
    "## Quick Lab: Lists\n",
    "* Write a Python program to read in a list of items possibly containing duplicates, and then constructs a new list which contains the elements from the original list, with the order preserved, but the duplicates removed\n",
    "![alt-text](images/list2.png \"list2\")"
   ]
  },
  {
   "cell_type": "code",
   "execution_count": 115,
   "id": "83f259ae-9c7a-47a0-930a-2ba86347f243",
   "metadata": {},
   "outputs": [
    {
     "name": "stdin",
     "output_type": "stream",
     "text": [
      "Enter a list of items:  apple fig apple fig lemon\n"
     ]
    },
    {
     "name": "stdout",
     "output_type": "stream",
     "text": [
      "apple fig lemon\n"
     ]
    }
   ],
   "source": [
    "words = input('Enter a list of items: ').lower().split() # chained functioned == Pythonic\n",
    "new_words = [] # start w/an empty list\n",
    "\n",
    "for word in words: # for each word in the original list...\n",
    "    if word not in new_words: # if word is not already in the new list... (we mentioned in, but didn't mention 'not in')\n",
    "        new_words.append(word) # append it to the new list\n",
    "\n",
    "#print(' '.join(new_words))\n",
    "print(*new_words)"
   ]
  },
  {
   "cell_type": "code",
   "execution_count": 97,
   "id": "c5f2ebb4-593f-41a8-9356-c819c9aafd27",
   "metadata": {},
   "outputs": [],
   "source": [
    "# read until the user enters quit"
   ]
  },
  {
   "cell_type": "code",
   "execution_count": 102,
   "id": "fbfbf9f2-810b-4c66-8553-c1ec49f00540",
   "metadata": {},
   "outputs": [
    {
     "name": "stdin",
     "output_type": "stream",
     "text": [
      "What?  quit\n"
     ]
    },
    {
     "name": "stdout",
     "output_type": "stream",
     "text": [
      "[]\n"
     ]
    }
   ],
   "source": [
    "prompt = 'What? ' \n",
    "response = input(prompt)\n",
    "responses = []\n",
    "\n",
    "while response != 'quit':\n",
    "    print('process', response)\n",
    "    responses.append(response)\n",
    "    response = input(prompt)\n",
    "    \n",
    "print(responses)"
   ]
  },
  {
   "cell_type": "code",
   "execution_count": 104,
   "id": "ae2bfeba-a30b-4cc1-9faf-49b4d7991e9b",
   "metadata": {},
   "outputs": [
    {
     "name": "stdin",
     "output_type": "stream",
     "text": [
      "What?  one\n"
     ]
    },
    {
     "name": "stdout",
     "output_type": "stream",
     "text": [
      "process one\n"
     ]
    },
    {
     "name": "stdin",
     "output_type": "stream",
     "text": [
      "What?  two\n"
     ]
    },
    {
     "name": "stdout",
     "output_type": "stream",
     "text": [
      "process two\n"
     ]
    },
    {
     "name": "stdin",
     "output_type": "stream",
     "text": [
      "What?  quit\n"
     ]
    }
   ],
   "source": [
    "response = ''\n",
    "while response != 'quit':\n",
    "    response = input(prompt)\n",
    "    if response == 'quit':\n",
    "        break\n",
    "    print('process', response)"
   ]
  },
  {
   "cell_type": "code",
   "execution_count": 105,
   "id": "06f892d1-1b77-46be-bf08-12235382f210",
   "metadata": {},
   "outputs": [
    {
     "name": "stdin",
     "output_type": "stream",
     "text": [
      "What?  one\n"
     ]
    },
    {
     "name": "stdout",
     "output_type": "stream",
     "text": [
      "process one\n"
     ]
    },
    {
     "name": "stdin",
     "output_type": "stream",
     "text": [
      "What?  two\n"
     ]
    },
    {
     "name": "stdout",
     "output_type": "stream",
     "text": [
      "process two\n"
     ]
    },
    {
     "name": "stdin",
     "output_type": "stream",
     "text": [
      "What?  quit\n"
     ]
    }
   ],
   "source": [
    "while True:\n",
    "    response = input(prompt)\n",
    "    if response == 'quit':\n",
    "        break\n",
    "    print('process', response)"
   ]
  },
  {
   "cell_type": "code",
   "execution_count": 106,
   "id": "7671a598-ed6d-4ede-ba1c-7611676cd8aa",
   "metadata": {},
   "outputs": [
    {
     "data": {
      "text/plain": [
       "'3.9.12 (main, Apr  5 2022, 01:53:17) \\n[Clang 12.0.0 ]'"
      ]
     },
     "execution_count": 106,
     "metadata": {},
     "output_type": "execute_result"
    }
   ],
   "source": [
    "import sys\n",
    "sys.version"
   ]
  },
  {
   "cell_type": "code",
   "execution_count": 110,
   "id": "210c41f7-e447-41ff-8e28-933ef767a9ba",
   "metadata": {},
   "outputs": [
    {
     "name": "stdin",
     "output_type": "stream",
     "text": [
      "What?  one\n"
     ]
    },
    {
     "name": "stdout",
     "output_type": "stream",
     "text": [
      "process one\n"
     ]
    },
    {
     "name": "stdin",
     "output_type": "stream",
     "text": [
      "What?  to\n"
     ]
    },
    {
     "name": "stdout",
     "output_type": "stream",
     "text": [
      "process to\n"
     ]
    },
    {
     "name": "stdin",
     "output_type": "stream",
     "text": [
      "What?  quit\n"
     ]
    }
   ],
   "source": [
    "# in Python 3.8, we got \"assignment expressions\" (the \"walrus\" operator)\n",
    "while (response := input(prompt)) != 'quit':\n",
    "    print('process', response)"
   ]
  },
  {
   "cell_type": "code",
   "execution_count": 116,
   "id": "9b99cda0-8f16-40d8-b0fc-354ffaba9e65",
   "metadata": {},
   "outputs": [
    {
     "data": {
      "text/plain": [
       "['a', 'e', 'n', 'o', 'o', 't', 'u', 'z']"
      ]
     },
     "execution_count": 116,
     "metadata": {},
     "output_type": "execute_result"
    }
   ],
   "source": [
    "sorted('autozone')"
   ]
  },
  {
   "cell_type": "code",
   "execution_count": 117,
   "id": "8de241d6-79ca-4fc4-b07f-8d703100caf3",
   "metadata": {},
   "outputs": [
    {
     "data": {
      "text/plain": [
       "['a', 'u', 't', 'o', 'z', 'o', 'n', 'e']"
      ]
     },
     "execution_count": 117,
     "metadata": {},
     "output_type": "execute_result"
    }
   ],
   "source": [
    "list('autozone')"
   ]
  },
  {
   "cell_type": "code",
   "execution_count": 118,
   "id": "600a3e73-74fc-4bfa-90ca-b614a5076d85",
   "metadata": {},
   "outputs": [
    {
     "data": {
      "text/plain": [
       "[-5, -3, 1, 2, 4, 9]"
      ]
     },
     "execution_count": 118,
     "metadata": {},
     "output_type": "execute_result"
    }
   ],
   "source": [
    "sorted([1, -3, 4, 2, 9, -5])"
   ]
  },
  {
   "cell_type": "code",
   "execution_count": 119,
   "id": "6398c6fe-09e1-4978-8b71-0099c494f02a",
   "metadata": {},
   "outputs": [
    {
     "data": {
      "text/plain": [
       "['five', 'four', 'three']"
      ]
     },
     "execution_count": 119,
     "metadata": {},
     "output_type": "execute_result"
    }
   ],
   "source": [
    "sorted({'three': 3, 'four': 4, 'five': 8 })"
   ]
  },
  {
   "cell_type": "code",
   "execution_count": 120,
   "id": "ef0c305f-8668-403e-b593-17d0136f2bcc",
   "metadata": {},
   "outputs": [],
   "source": [
    "d = {}"
   ]
  },
  {
   "cell_type": "code",
   "execution_count": 121,
   "id": "f3feb02a-e080-4992-93c4-89d0441f84db",
   "metadata": {},
   "outputs": [],
   "source": [
    "d['Python'] = 1991"
   ]
  },
  {
   "cell_type": "code",
   "execution_count": 122,
   "id": "e94a4126-bab7-40af-8837-120f898c024c",
   "metadata": {},
   "outputs": [],
   "source": [
    "d['Java'] = 1995"
   ]
  },
  {
   "cell_type": "code",
   "execution_count": 123,
   "id": "a03ce2e7-52b4-4603-89af-5c751ab63c7f",
   "metadata": {},
   "outputs": [],
   "source": [
    "d['Golang'] = 2009"
   ]
  },
  {
   "cell_type": "code",
   "execution_count": 124,
   "id": "1342aae5-f83d-4643-a136-657d7d0850fe",
   "metadata": {},
   "outputs": [
    {
     "data": {
      "text/plain": [
       "{'Python': 1991, 'Java': 1995, 'Golang': 2009}"
      ]
     },
     "execution_count": 124,
     "metadata": {},
     "output_type": "execute_result"
    }
   ],
   "source": [
    "d"
   ]
  },
  {
   "cell_type": "markdown",
   "id": "a80ce882-b15b-4c9d-8952-111d9e42c209",
   "metadata": {},
   "source": [
    "## Lab: dictionary\n",
    "* use a dict to translate Roman numerals into their Arabic equivalents\n",
    "1. load the dict with Roman numerals M (1000), D (500), C (100), L (50), X (10), V (5), I (1)\n",
    "2. read in a Roman numeral\n",
    "3. print Arabic equivalent\n",
    "4. try it with MCLX = 1000 + 100 + 50 + 10 = 1160\n",
    "4. __If you have time, deal with the case where a smaller number precedes a larger number, e.g., XC = 100 - 10 = 90, or MCM = 1000 + (1000-100) = 1900__\n",
    "4. __MCMXCIX = 1999__"
   ]
  },
  {
   "cell_type": "code",
   "execution_count": 125,
   "id": "792e5191-808a-440c-bd2c-1636080cfa38",
   "metadata": {},
   "outputs": [],
   "source": [
    "roman_to_arabic = {\n",
    "    'M': 1000,\n",
    "    'D': 500,\n",
    "    'C': 100,\n",
    "    'L': 50,\n",
    "    'X': 10,\n",
    "    'V': 5,\n",
    "    'I': 1,\n",
    "}"
   ]
  },
  {
   "cell_type": "code",
   "execution_count": 126,
   "id": "56143f71-95cd-4f44-9eee-d13374a3de35",
   "metadata": {},
   "outputs": [
    {
     "data": {
      "text/plain": [
       "100"
      ]
     },
     "execution_count": 126,
     "metadata": {},
     "output_type": "execute_result"
    }
   ],
   "source": [
    "roman_to_arabic['C']"
   ]
  },
  {
   "cell_type": "code",
   "execution_count": 144,
   "id": "6009f324-c6e6-46c9-94a4-fc2403228216",
   "metadata": {},
   "outputs": [
    {
     "name": "stdin",
     "output_type": "stream",
     "text": [
      "Enter a Roman numeral:  MCMXCIX\n"
     ]
    }
   ],
   "source": [
    "roman = input('Enter a Roman numeral: ')"
   ]
  },
  {
   "cell_type": "code",
   "execution_count": 145,
   "id": "f6b93e88-0538-45ed-84de-559a420d170a",
   "metadata": {},
   "outputs": [
    {
     "name": "stdout",
     "output_type": "stream",
     "text": [
      "2221\n"
     ]
    }
   ],
   "source": [
    "total = 0\n",
    "\n",
    "for digit in roman:\n",
    "    total += roman_to_arabic[digit]\n",
    "    \n",
    "print(total)"
   ]
  },
  {
   "cell_type": "code",
   "execution_count": 146,
   "id": "24799cab-4c67-40e9-a66c-3b4f25b4e606",
   "metadata": {},
   "outputs": [],
   "source": [
    "# one way to solve the general problem\n",
    "# pass 1: put the Arabic values in a list\n",
    "# MCMXCIX\n",
    "# [ 1000, 100, 1000, 10, 100, 1, 10 ]\n",
    "# pass 2:\n",
    "# for each Arabic value in the list:\n",
    "#.   if value is < its neighbor (to the right), then\n",
    "#.      make it negative\n",
    "#\n",
    "# [ 1000, -100, 1000, -10, 100, -1, 10 ]\n",
    "# sum up the list = 1999"
   ]
  },
  {
   "cell_type": "code",
   "execution_count": 147,
   "id": "b36c776e-f147-4183-83a5-dd41f779f43d",
   "metadata": {},
   "outputs": [
    {
     "name": "stdout",
     "output_type": "stream",
     "text": [
      "[1000, 100, 1000, 10, 100, 1, 10]\n"
     ]
    }
   ],
   "source": [
    "arabic_vals = []\n",
    "\n",
    "# pass 1\n",
    "for digit in roman:\n",
    "    arabic_vals.append(roman_to_arabic[digit])\n",
    "    \n",
    "print(arabic_vals)"
   ]
  },
  {
   "cell_type": "code",
   "execution_count": 148,
   "id": "6e787773-8804-4efc-bff0-e639273d8bf5",
   "metadata": {},
   "outputs": [
    {
     "name": "stdout",
     "output_type": "stream",
     "text": [
      "[1000, -100, 1000, -10, 100, -1, 10]\n"
     ]
    }
   ],
   "source": [
    "# pass 2\n",
    "for index in range(len(roman) - 1): # don't fall off the end!\n",
    "    if arabic_vals[index] < arabic_vals[index + 1]:\n",
    "        arabic_vals[index] = -arabic_vals[index]\n",
    "        \n",
    "print(arabic_vals)"
   ]
  },
  {
   "cell_type": "code",
   "execution_count": 149,
   "id": "0f62990d-0b20-4f8c-b8ce-0203bcfd0833",
   "metadata": {},
   "outputs": [
    {
     "data": {
      "text/plain": [
       "1999"
      ]
     },
     "execution_count": 149,
     "metadata": {},
     "output_type": "execute_result"
    }
   ],
   "source": [
    "# final summation\n",
    "sum(arabic_vals)"
   ]
  },
  {
   "cell_type": "code",
   "execution_count": 134,
   "id": "e086ea0c-8241-4842-9729-f20790301de7",
   "metadata": {},
   "outputs": [],
   "source": [
    "d = { 'foo': 'bar' }"
   ]
  },
  {
   "cell_type": "code",
   "execution_count": 135,
   "id": "0b040483-ed5b-48a9-aa50-da476af55f18",
   "metadata": {},
   "outputs": [
    {
     "data": {
      "text/plain": [
       "'bar'"
      ]
     },
     "execution_count": 135,
     "metadata": {},
     "output_type": "execute_result"
    }
   ],
   "source": [
    "d['foo']"
   ]
  },
  {
   "cell_type": "code",
   "execution_count": 136,
   "id": "b80a7e6f-89ad-4692-a97f-34fafef0d113",
   "metadata": {},
   "outputs": [
    {
     "ename": "KeyError",
     "evalue": "'foot'",
     "output_type": "error",
     "traceback": [
      "\u001b[0;31m---------------------------------------------------------------------------\u001b[0m",
      "\u001b[0;31mKeyError\u001b[0m                                  Traceback (most recent call last)",
      "Input \u001b[0;32mIn [136]\u001b[0m, in \u001b[0;36m<cell line: 1>\u001b[0;34m()\u001b[0m\n\u001b[0;32m----> 1\u001b[0m \u001b[43md\u001b[49m\u001b[43m[\u001b[49m\u001b[38;5;124;43m'\u001b[39;49m\u001b[38;5;124;43mfoot\u001b[39;49m\u001b[38;5;124;43m'\u001b[39;49m\u001b[43m]\u001b[49m\n",
      "\u001b[0;31mKeyError\u001b[0m: 'foot'"
     ]
    }
   ],
   "source": [
    "d['foot']"
   ]
  },
  {
   "cell_type": "code",
   "execution_count": 137,
   "id": "b7e41ddd-89ae-4690-a810-0539872966a4",
   "metadata": {},
   "outputs": [],
   "source": [
    "if 'foot' in d:\n",
    "    d['foot']"
   ]
  },
  {
   "cell_type": "code",
   "execution_count": 138,
   "id": "94a5e0dc-9e76-45bf-b8d0-4cb002fc4cf3",
   "metadata": {},
   "outputs": [
    {
     "data": {
      "text/plain": [
       "True"
      ]
     },
     "execution_count": 138,
     "metadata": {},
     "output_type": "execute_result"
    }
   ],
   "source": [
    "'foo' in d"
   ]
  },
  {
   "cell_type": "code",
   "execution_count": 139,
   "id": "b1c8ef99-0c26-454a-a72d-d1c1ece50c09",
   "metadata": {},
   "outputs": [
    {
     "data": {
      "text/plain": [
       "False"
      ]
     },
     "execution_count": 139,
     "metadata": {},
     "output_type": "execute_result"
    }
   ],
   "source": [
    "'bar' in d"
   ]
  },
  {
   "cell_type": "code",
   "execution_count": 140,
   "id": "690f181c-b68f-4ccc-b6d8-32838cfd1ca6",
   "metadata": {},
   "outputs": [
    {
     "data": {
      "text/plain": [
       "True"
      ]
     },
     "execution_count": 140,
     "metadata": {},
     "output_type": "execute_result"
    }
   ],
   "source": [
    "'bar' in d.values()"
   ]
  },
  {
   "cell_type": "markdown",
   "id": "8f59746b-b8ad-41de-aabc-74e411251788",
   "metadata": {},
   "source": [
    "## Quick Lab: File I/O\n",
    "* write a Python program which prompts the user for a filename, then opens that file and writes the contents of the file to a new file, in reverse order, i.e.,\n",
    "\n",
    "<pre><b>\n",
    "    Original file       Reversed file\n",
    "    Line 1              Line 4\n",
    "    Line 2              Line 3\n",
    "    Line 3              Line 2\n",
    "    Line 4              Line 1\n",
    "</b></pre>"
   ]
  },
  {
   "cell_type": "code",
   "execution_count": 142,
   "id": "b0045001-46d1-4d2e-bf2a-c063b2475259",
   "metadata": {},
   "outputs": [],
   "source": [
    "# for the above, I would recommend using .readlines()\n",
    "# which reads the entire file at once"
   ]
  },
  {
   "cell_type": "code",
   "execution_count": 150,
   "id": "9632d398-b8f0-4b0f-b8e7-f91698b5f615",
   "metadata": {},
   "outputs": [
    {
     "name": "stdin",
     "output_type": "stream",
     "text": [
      "Reverse what file?  poem.txt\n"
     ]
    }
   ],
   "source": [
    "filename = input('Reverse what file? ')\n",
    "\n",
    "with open(filename) as infile:\n",
    "    lines = infile.readlines() # read all lines of the file into lines list\n",
    "\n",
    "with open(filename + '.rev', 'w') as outfile:\n",
    "    # write the lines out in reverse order\n",
    "    print(''.join(lines[::-1]), file=outfile)"
   ]
  },
  {
   "cell_type": "markdown",
   "id": "70da6bcb-9e93-4d05-bbc9-f33e521d4eda",
   "metadata": {},
   "source": [
    "## Lab: File I/O + dicts\n",
    "* write a Python program to read a file and count the number of occurrences of each word in the file\n",
    "* use a __`dict`__, indexed by word, to count the occurrences\n",
    "* remember __`d.get(key)`__ will return __`None`__ if there is no such key in the dict (vs. __`d[key]`__ which will throw an exception) and also the __`in`__ operator\n",
    "  * or use a __`collections.defaultdict`__ if we've covered it\n",
    "* treat __The__ and __the__ as the same word when counting\n",
    "* print out words and counts, from most common to least common\n",
    "* EXTRA: remove punctuation, so __Hamlet,__ == __Hamlet__ # refer back to \"import this\"\n",
    "* Road Not Taken and Hamlet are in your materials"
   ]
  },
  {
   "cell_type": "code",
   "execution_count": 152,
   "id": "9b252480-3fbe-4852-8e59-586be783b4c4",
   "metadata": {},
   "outputs": [
    {
     "name": "stdin",
     "output_type": "stream",
     "text": [
      "Count words in which file?  poem.txt\n"
     ]
    },
    {
     "name": "stdout",
     "output_type": "stream",
     "text": [
      "a 3\n",
      "about 1\n",
      "ages 2\n",
      "all 1\n",
      "and 9\n",
      "another 1\n",
      "as 5\n",
      "back. 1\n",
      "be 2\n",
      "because 1\n",
      "bent 1\n",
      "better 1\n",
      "black. 1\n",
      "both 2\n",
      "by, 1\n",
      "claim, 1\n",
      "come 1\n",
      "could 2\n",
      "day! 1\n",
      "difference. 1\n",
      "diverged 2\n",
      "doubted 1\n",
      "down 1\n",
      "equally 1\n",
      "ever 1\n",
      "fair, 1\n",
      "far 1\n",
      "first 1\n",
      "for 2\n",
      "grassy 1\n",
      "had 2\n",
      "has 1\n",
      "having 1\n",
      "hence: 1\n",
      "how 1\n",
      "i 8\n",
      "if 1\n",
      "in 4\n",
      "it 2\n",
      "i— 1\n",
      "just 1\n",
      "kept 1\n",
      "knowing 1\n",
      "lay 1\n",
      "leads 1\n",
      "leaves 1\n",
      "less 1\n",
      "long 1\n",
      "looked 1\n",
      "made 1\n",
      "morning 1\n",
      "no 1\n",
      "not 1\n",
      "oh, 1\n",
      "on 1\n",
      "one 3\n",
      "other, 1\n",
      "passing 1\n",
      "perhaps 1\n",
      "really 1\n",
      "roads 2\n",
      "same, 1\n",
      "shall 1\n",
      "should 1\n",
      "sigh 1\n",
      "somewhere 1\n",
      "sorry 1\n",
      "step 1\n",
      "stood 1\n",
      "telling 1\n",
      "that 3\n",
      "the 8\n",
      "them 1\n",
      "then 1\n",
      "there 1\n",
      "this 1\n",
      "though 1\n",
      "to 2\n",
      "took 2\n",
      "travel 1\n",
      "traveled 1\n",
      "traveler, 1\n",
      "trodden 1\n",
      "two 2\n",
      "undergrowth; 1\n",
      "wanted 1\n",
      "was 1\n",
      "way 1\n",
      "way, 1\n",
      "wear; 1\n",
      "where 1\n",
      "with 1\n",
      "wood, 2\n",
      "worn 1\n",
      "yellow 1\n",
      "yet 1\n"
     ]
    }
   ],
   "source": [
    "filename = input('Count words in which file? ')\n",
    "wordcounts = {}\n",
    "\n",
    "with open(filename) as infile:\n",
    "    for line in infile: # for each line...\n",
    "        for word in line.lower().split(): # for each word (after making line lower case)\n",
    "            if word in wordcounts: # we've seen it before\n",
    "                wordcounts[word] += 1\n",
    "            else: # new word\n",
    "                wordcounts[word] = 1\n",
    "                \n",
    "# we're done, but the dict will be in order of the words found in the file...not useful\n",
    "# we could sort the dict, which will sort the keys (words)\n",
    "for word in sorted(wordcounts):\n",
    "    print(word, wordcounts[word])           "
   ]
  },
  {
   "cell_type": "markdown",
   "id": "276fd3bc-ccda-403a-a0f3-e448d30fc880",
   "metadata": {},
   "source": [
    "### It's better to sort by the counts of the words, i.e., the *value* of the dict\n",
    "* In order to do that we need to know two new things:\n",
    "1. The __`sorted()`__ function takes an optional _key_ argument...it has nothing to do\n",
    "with dictionary keys–instead, it describes *how* sort does its job. The sorting\n",
    "key is a function which takes 1 argument, and what it returns dictates the sorting\n",
    "order. \n",
    "2. Every dictionary has a method __`get()`__ which, when passed the key, returns its\n",
    "corresponding value. It's basically a function version of using the []s to index the dict."
   ]
  },
  {
   "cell_type": "code",
   "execution_count": 156,
   "id": "badffdfc-6fad-43c2-b797-c68ac86b97a0",
   "metadata": {},
   "outputs": [
    {
     "data": {
      "text/plain": [
       "['apple', 'fig', 'pear']"
      ]
     },
     "execution_count": 156,
     "metadata": {},
     "output_type": "execute_result"
    }
   ],
   "source": [
    "# Let's try an example–support we want to sort a list by the length of the words in it,\n",
    "# rather than alphabetically. So the list ['pear', 'fig', 'apple'] should be sorted as\n",
    "# ['fig', 'pear', 'apple'] because _fig_ is the shortest word, then _pear_, and then _apple_.\n",
    "#\n",
    "# A regular sorted() call will sort alphabetically...\n",
    "sorted(['pear', 'fig', 'apple'])"
   ]
  },
  {
   "cell_type": "code",
   "execution_count": 158,
   "id": "c3d81d5e-8acf-413c-9002-f0a20221ef28",
   "metadata": {},
   "outputs": [
    {
     "data": {
      "text/plain": [
       "['fig', 'pear', 'apple']"
      ]
     },
     "execution_count": 158,
     "metadata": {},
     "output_type": "execute_result"
    }
   ],
   "source": [
    "# Now let's try it using the built-in len() function as the sorting key...\n",
    "# Note that we just pass the *name* of the len function. That tells sorted\n",
    "# which function to call when comparing two items. So when sorted() has to\n",
    "# decide how to order 'fig' and 'apple', it calls len('fig') and len('apple')\n",
    "# and the order is dictated by the numbers 3 and 5 that are returned.\n",
    "sorted(['pear', 'fig', 'apple'], key=len)"
   ]
  },
  {
   "cell_type": "code",
   "execution_count": 159,
   "id": "5a4135a4-5be6-4e83-8cf1-babf5b1835f9",
   "metadata": {},
   "outputs": [],
   "source": [
    "# Let's use the __`.get()`__ method to sort a dictionary–that will cause the\n",
    "# dict to be sorted by its _values_ rather than its keys"
   ]
  },
  {
   "cell_type": "code",
   "execution_count": 160,
   "id": "23107f09-c0e5-4ef5-a8d8-b44751888a5f",
   "metadata": {},
   "outputs": [
    {
     "data": {
      "text/plain": [
       "['grande', 'tall', 'venti']"
      ]
     },
     "execution_count": 160,
     "metadata": {},
     "output_type": "execute_result"
    }
   ],
   "source": [
    "# First, we'll sort the normal way...\n",
    "sbux_dict = { 'grande': 16, 'venti': 20, 'tall': 12 }\n",
    "sorted(sbux_dict)"
   ]
  },
  {
   "cell_type": "code",
   "execution_count": 161,
   "id": "4a5feb8c-afa4-48d2-8577-39606b180d61",
   "metadata": {},
   "outputs": [
    {
     "data": {
      "text/plain": [
       "['tall', 'grande', 'venti']"
      ]
     },
     "execution_count": 161,
     "metadata": {},
     "output_type": "execute_result"
    }
   ],
   "source": [
    "# ...but the above isn't very useful because we don't want the cup *names* to be\n",
    "# sorted, but rather, the cup *sizes* (the values in the dict). By setting the\n",
    "# sorting key to the get() method, we get what we want, namely, that the keys\n",
    "# are sorted by their corresponding values...12, 16, 20.\n",
    "sorted(sbux_dict, key=sbux_dict.get)"
   ]
  },
  {
   "cell_type": "code",
   "execution_count": 164,
   "id": "081b9dfc-b93e-43c1-b3b4-ba1f562d30e2",
   "metadata": {},
   "outputs": [
    {
     "name": "stdin",
     "output_type": "stream",
     "text": [
      "Count words in which file?  hamlet.txt\n",
      "Top 10/20/etc.?  20\n"
     ]
    },
    {
     "name": "stdout",
     "output_type": "stream",
     "text": [
      "the 1137\n",
      "and 936\n",
      "to 728\n",
      "of 664\n",
      "a 527\n",
      "i 513\n",
      "my 513\n",
      "in 423\n",
      "you 405\n",
      "hamlet 401\n",
      "that 345\n",
      "it 325\n",
      "is 318\n",
      "his 294\n",
      "not 274\n",
      "with 263\n",
      "this 249\n",
      "your 242\n",
      "but 229\n",
      "for 228\n"
     ]
    }
   ],
   "source": [
    "filename = input('Count words in which file? ')\n",
    "wordcounts = {}\n",
    "\n",
    "with open(filename) as infile:\n",
    "    for line in infile: # for each line...\n",
    "        for word in line.lower().split(): # for each word (after making line lower case)\n",
    "            if word in wordcounts: # we've seen it before\n",
    "                wordcounts[word] += 1\n",
    "            else: # new word\n",
    "                wordcounts[word] = 1\n",
    "                \n",
    "# Sort the dict keys by their values, and in reverse order (largest to smallest).\n",
    "# We can use slicing to restrict the output to the top 10, 20, or however many we\n",
    "# want to see...\n",
    "\n",
    "top = int(input('Top 10/20/etc.? '))\n",
    "for word in sorted(wordcounts, key=wordcounts.get, reverse=True)[:top]:\n",
    "    print(word, wordcounts[word])           "
   ]
  },
  {
   "cell_type": "code",
   "execution_count": 171,
   "id": "0ade3773-4e9e-4171-bfb6-27bf0e45837a",
   "metadata": {},
   "outputs": [
    {
     "name": "stdout",
     "output_type": "stream",
     "text": [
      "hi hamlet how are you\n"
     ]
    }
   ],
   "source": [
    "# To remove punctuation we have several options. There is a string method named\n",
    "# translate(), which takes a dict of chars to conver to other chars. We could use\n",
    "# translate() to convert all punctuation to empty strings (thereby removing them),\n",
    "# but it's a bit clunky since the keys have to be Unicode values–which you can get\n",
    "# by calling the built-in function ord().\n",
    "#\n",
    "# A more Pythonic solution is to list-ify the string, dropping out the punctuation\n",
    "# characters, then join-ing the list items back into a string. Normally this would \n",
    "# be done in one line with a *list comprehension*, something we didn't have time to\n",
    "# cover in our one-day class. So instead I will do it \"longhand\"...\n",
    "\n",
    "import string # we can get a string containing all the punctuation characters here\n",
    "\n",
    "line = 'Hi Hamlet, how are you?'\n",
    "edited_line = ''\n",
    "\n",
    "for char in line.lower():\n",
    "    if char not in string.punctuation: # if it's not punctuation, append it\n",
    "        edited_line += char\n",
    "        \n",
    "print(edited_line)"
   ]
  },
  {
   "cell_type": "code",
   "execution_count": 173,
   "id": "edfaf37f-360e-4dfd-b90b-0dee8b48f8c7",
   "metadata": {},
   "outputs": [
    {
     "name": "stdin",
     "output_type": "stream",
     "text": [
      "Count words in which file?  hamlet.txt\n",
      "Top 10/20/etc.?  20\n"
     ]
    },
    {
     "name": "stdout",
     "output_type": "stream",
     "text": [
      "the 1142\n",
      "and 964\n",
      "to 737\n",
      "of 669\n",
      "i 567\n",
      "you 546\n",
      "a 531\n",
      "my 513\n",
      "hamlet 463\n",
      "in 436\n",
      "it 416\n",
      "that 389\n",
      "is 340\n",
      "not 313\n",
      "lord 310\n",
      "his 296\n",
      "this 296\n",
      "but 270\n",
      "with 267\n",
      "for 248\n"
     ]
    }
   ],
   "source": [
    "# Now we put the above into our solution...\n",
    "import string\n",
    "\n",
    "filename = input('Count words in which file? ')\n",
    "wordcounts = {}\n",
    "\n",
    "with open(filename) as infile:\n",
    "    for line in infile: # for each line...\n",
    "        new_line = ''\n",
    "        for char in line.lower():\n",
    "            if char not in string.punctuation: # if it's not punctuation, append it\n",
    "                new_line += char\n",
    "        for word in new_line.split(): # for each word (after making line lower case)\n",
    "            if word in wordcounts: # we've seen it before\n",
    "                wordcounts[word] += 1\n",
    "            else: # new word\n",
    "                wordcounts[word] = 1\n",
    "                \n",
    "# Sort the dict keys by their values, and in reverse order (largest to smallest).\n",
    "# We can use slicing to restrict the output to the top 10, 20, or however many we\n",
    "# want to see...\n",
    "\n",
    "top = int(input('Top 10/20/etc.? '))\n",
    "for word in sorted(wordcounts, key=wordcounts.get, reverse=True)[:top]:\n",
    "    print(word, wordcounts[word])  "
   ]
  },
  {
   "cell_type": "code",
   "execution_count": null,
   "id": "dd3bb4ed-efd5-40ac-bc7d-fd648e61f5b8",
   "metadata": {},
   "outputs": [],
   "source": []
  }
 ],
 "metadata": {
  "kernelspec": {
   "display_name": "Python 3 (ipykernel)",
   "language": "python",
   "name": "python3"
  },
  "language_info": {
   "codemirror_mode": {
    "name": "ipython",
    "version": 3
   },
   "file_extension": ".py",
   "mimetype": "text/x-python",
   "name": "python",
   "nbconvert_exporter": "python",
   "pygments_lexer": "ipython3",
   "version": "3.9.12"
  }
 },
 "nbformat": 4,
 "nbformat_minor": 5
}
